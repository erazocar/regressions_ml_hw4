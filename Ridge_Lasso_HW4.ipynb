{
  "nbformat": 4,
  "nbformat_minor": 0,
  "metadata": {
    "colab": {
      "name": "Ridge_Lasso_HW4.ipynb",
      "provenance": [],
      "collapsed_sections": [],
      "mount_file_id": "1FiHcccSp8uAP8LcQGnEFPdgy8IjifOnF",
      "authorship_tag": "ABX9TyPKIOKqFyazsJQUz86CJu8X",
      "include_colab_link": true
    },
    "kernelspec": {
      "name": "python3",
      "display_name": "Python 3"
    },
    "language_info": {
      "name": "python"
    }
  },
  "cells": [
    {
      "cell_type": "markdown",
      "metadata": {
        "id": "view-in-github",
        "colab_type": "text"
      },
      "source": [
        "<a href=\"https://colab.research.google.com/github/erazocar/regressions_ml_hw4/blob/main/Ridge_Lasso_HW4.ipynb\" target=\"_parent\"><img src=\"https://colab.research.google.com/assets/colab-badge.svg\" alt=\"Open In Colab\"/></a>"
      ]
    },
    {
      "cell_type": "markdown",
      "metadata": {
        "id": "Fmy1FmF5IRf1"
      },
      "source": [
        "# **Lasso and Ridge Regression Analysis**\n",
        "# **Required Libraries**"
      ]
    },
    {
      "cell_type": "code",
      "metadata": {
        "id": "AltcjEBB7nvq"
      },
      "source": [
        "#importing required libraries\n",
        "import numpy as np\n",
        "import os\n",
        "import pandas as pd\n",
        "\n",
        "#Gensim library for document selection and LSI\n",
        "import sklearn as sk\n",
        "from sklearn import datasets\n",
        "from sklearn import linear_model as lm\n",
        "\n",
        "#Visualization libraries\n",
        "import matplotlib.pyplot as plt"
      ],
      "execution_count": null,
      "outputs": []
    },
    {
      "cell_type": "markdown",
      "metadata": {
        "id": "2G5B9FT9h6Lv"
      },
      "source": [
        "## **Function Definition**"
      ]
    },
    {
      "cell_type": "code",
      "metadata": {
        "id": "18KYje0w3atd"
      },
      "source": [
        "#Reader for each file, appended to a list.\n",
        "def reader(path):\n",
        "  data = pd.read_csv(path, delim_whitespace=True, header = None)\n",
        "  for i,j in enumerate(data.values):\n",
        "    for k in range(len(j)):\n",
        "      if (isinstance(j[k], str)):\n",
        "        data.loc[i,k] = float(j[k].split(':')[1])\n",
        "  return data"
      ],
      "execution_count": null,
      "outputs": []
    },
    {
      "cell_type": "code",
      "metadata": {
        "id": "eC1X3rcq3qjA"
      },
      "source": [
        "#Creating dataset and labels for the Boston housing data\n",
        "def boston_split(sets, testing_size):\n",
        "  var = []\n",
        "  #Separating data into dataset and labels\n",
        "  variables = sets.drop(0, axis=1)\n",
        "  labels = sets[0]\n",
        "\n",
        "  #Splitting the data into training and testing datasets, depending on the\n",
        "  #size of the test\n",
        "  splitter = sk.model_selection.train_test_split\n",
        "  X_train, X_test, y_train, y_test = splitter(variables, labels, test_size = testing_size)\n",
        "  var.append(X_train)\n",
        "  var.append(y_train)\n",
        "  var.append(X_test)\n",
        "  var.append(y_test)\n",
        "  return var"
      ],
      "execution_count": null,
      "outputs": []
    },
    {
      "cell_type": "code",
      "metadata": {
        "id": "rqruTZcNjYVs"
      },
      "source": [
        "#Optimal solution function Ridge for BS data\n",
        "def optim_ridge(data):\n",
        "  ridgereg = lm.Ridge(alpha = 1 * (2*data[0].count()))\n",
        "  ridgereg.fit(data.drop(0, axis=1),data[0])\n",
        "  return ridgereg.coef_, ridgereg.intercept_"
      ],
      "execution_count": null,
      "outputs": []
    },
    {
      "cell_type": "code",
      "metadata": {
        "id": "umJ8ssePj_sQ"
      },
      "source": [
        "#Optimal solution function Lasso for BS data\n",
        "def optim_lasso(data):\n",
        "  lassoreg = lm.Lasso(alpha = 1)\n",
        "  lassoreg.fit(data.drop(0, axis=1),data[0])\n",
        "  return lassoreg.coef_, lassoreg.intercept_"
      ],
      "execution_count": null,
      "outputs": []
    },
    {
      "cell_type": "code",
      "metadata": {
        "id": "DXEaxueZye2a"
      },
      "source": [
        "#Optimal solution function Ridge for E2006 data\n",
        "def optim_ridge_e20(data):\n",
        "  ridgereg = lm.Ridge(alpha = 1 * (2*len(data[1])))\n",
        "  ridgereg.fit(data[0],data[1])\n",
        "  return ridgereg.coef_, ridgereg.intercept_"
      ],
      "execution_count": null,
      "outputs": []
    },
    {
      "cell_type": "code",
      "metadata": {
        "id": "NA2t9SHIyspg"
      },
      "source": [
        "#Optimal solution function Lasso for E2006 data\n",
        "def optim_lasso_e20(data):\n",
        "  lassoreg = lm.Lasso(alpha = 1)\n",
        "  lassoreg.fit(data[0],data[1])\n",
        "  return lassoreg.coef_, lassoreg.intercept_"
      ],
      "execution_count": null,
      "outputs": []
    },
    {
      "cell_type": "code",
      "metadata": {
        "id": "vD6gqGX4v9jt"
      },
      "source": [
        "#Ridge model generator (also plotter)\n",
        "def ridge_model(X_train, y_train, X_test, y_test, alpha):\n",
        "  #Fitting the model\n",
        "  ridgereg = lm.Ridge(alpha=alpha*(2*len(y_train)))\n",
        "  ridgereg.fit(X_train, y_train)\n",
        "  y_pred_train = ridgereg.predict(X_train)\n",
        "  y_pred = ridgereg.predict(X_test)\n",
        "\n",
        "  plt.scatter(y_test, y_pred)\n",
        "  plt.tight_layout()\n",
        "  plt.title('Plot for alpha: %.3g'%alpha)\n",
        "  plt.show()\n",
        "\n",
        "  rss = sum ((y_pred-y_test)**2)\n",
        "  ret = [rss]\n",
        "  ret.extend([ridgereg.intercept_])\n",
        "  ret.extend(ridgereg.coef_)\n",
        "  return ret"
      ],
      "execution_count": null,
      "outputs": []
    },
    {
      "cell_type": "code",
      "metadata": {
        "id": "d5nGLb-2Jymb"
      },
      "source": [
        "#Lasso model generator (also plotter)\n",
        "def lasso_model(X_train, y_train, X_test, y_test, alpha):\n",
        "  #Fitting the model\n",
        "  lassoreg = lm.Lasso(alpha=alpha)\n",
        "  lassoreg.fit(X_train, y_train)\n",
        "  y_pred_train = lassoreg.predict(X_train)\n",
        "  y_pred = lassoreg.predict(X_test)\n",
        "\n",
        "  plt.scatter(y_test, y_pred)\n",
        "  plt.tight_layout()\n",
        "  plt.title('Plot for alpha: %.3g'%alpha)\n",
        "  plt.show()\n",
        "\n",
        "  rss = sum ((y_pred-y_test)**2)\n",
        "  ret = [rss]\n",
        "  ret.extend([lassoreg.intercept_])\n",
        "  ret.extend(lassoreg.coef_)\n",
        "  return ret"
      ],
      "execution_count": null,
      "outputs": []
    },
    {
      "cell_type": "code",
      "metadata": {
        "id": "P7My7QaP6GiQ"
      },
      "source": [
        "#Creating dataset and labels for the E2006 dataset\n",
        "def e2006_split(training_set, testing_set):\n",
        "  var  = []\n",
        "  var.append(training_set[0])\n",
        "  var.append(training_set[1])\n",
        "  var.append(testing_set[0])\n",
        "  var.append(testing_set[1])\n",
        "\n",
        "  return var"
      ],
      "execution_count": null,
      "outputs": []
    },
    {
      "cell_type": "code",
      "metadata": {
        "id": "_FOMhlHYzkZp"
      },
      "source": [
        "#Coefficient matrix generator\n",
        "def coeff_matrices(alphas,model, X_train, y_train, X_test, y_test):\n",
        "  var = []\n",
        "  ind = ['alpha_%.2g'%alphas[i] for i in range(len(alphas))]\n",
        "  for i in range(len(alphas)):\n",
        "    var.append(model(X_train, y_train, X_test, y_test, alphas[i]))\n",
        "  \n",
        "  matrix = pd.DataFrame(var, index=ind)\n",
        "  return matrix"
      ],
      "execution_count": null,
      "outputs": []
    },
    {
      "cell_type": "code",
      "metadata": {
        "id": "lDlIDKnsCDzW"
      },
      "source": [
        "#Plot RMSE for the datasets\n",
        "def plot_rmse(alphas, matrix, name):\n",
        "  plt.plot(alphas, matrix[0])\n",
        "  plt.tight_layout()\n",
        "  plt.title('Alpha vs RMSE for ' + name)\n",
        "  plt.show()"
      ],
      "execution_count": null,
      "outputs": []
    },
    {
      "cell_type": "code",
      "metadata": {
        "id": "499tVygOLHQD"
      },
      "source": [
        "#Function calculation Kfold CV for ridge regression\n",
        "def ridge_kfold(alphas,X_train, y_train):\n",
        "  regressor = lm.RidgeCV(alphas = alphas*(2*y_train.count()), store_cv_values=True)\n",
        "  regressor.fit(X_train, y_train)\n",
        "  cv_mse = np.mean(regressor.cv_values_, axis=0)\n",
        "  return cv_mse, regressor.alpha_"
      ],
      "execution_count": null,
      "outputs": []
    },
    {
      "cell_type": "code",
      "metadata": {
        "id": "JXY__TyWhHuZ"
      },
      "source": [
        "#Function calculation Kfold CV for lasso regression\n",
        "def lasso_kfold(alphas, X_train, y_train):\n",
        "  regressor = lm.LassoCV(alphas=alphas)\n",
        "  regressor.fit(X_train, y_train)\n",
        "  return regressor.alpha_"
      ],
      "execution_count": null,
      "outputs": []
    },
    {
      "cell_type": "markdown",
      "metadata": {
        "id": "Y3wuDsWDAqI6"
      },
      "source": [
        "## **Preprocessing**"
      ]
    },
    {
      "cell_type": "code",
      "metadata": {
        "id": "kwDY-G6-7Vob"
      },
      "source": [
        "#Read paths and create contents for the documents.\n",
        "#Please put the local paths were the queries and docs are located when running.\n",
        "#Data for problem 1\n",
        "path1 = '/content/drive/MyDrive/MachineLearning/homework-4/house.txt'\n",
        "path2 = '/content/drive/MyDrive/MachineLearning/homework-4/house_scale.txt'\n",
        "\n",
        "BostonHouse = reader(path1)\n",
        "BostonHouse_scaled = reader(path2)"
      ],
      "execution_count": null,
      "outputs": []
    },
    {
      "cell_type": "code",
      "metadata": {
        "id": "wWlpyQzzma81"
      },
      "source": [
        "#Data for problem 2\n",
        "path3 = '/content/drive/MyDrive/MachineLearning/homework-4/E2006test.txt'\n",
        "path4 = '/content/drive/MyDrive/MachineLearning/homework-4/E2006train.txt'\n",
        "\n",
        "#Reading the data from E2006 files using sklearn tools\n",
        "E2006_test = datasets.load_svmlight_file(path3)\n",
        "E2006_train = datasets.load_svmlight_file(path4)"
      ],
      "execution_count": null,
      "outputs": []
    },
    {
      "cell_type": "markdown",
      "metadata": {
        "id": "dKJrI-az8XZx"
      },
      "source": [
        "## **Problem 1**"
      ]
    },
    {
      "cell_type": "markdown",
      "metadata": {
        "id": "5kMHAY6ET1TG"
      },
      "source": [
        "###**Question 1**\n"
      ]
    },
    {
      "cell_type": "code",
      "metadata": {
        "id": "hZAOcIOfcvre"
      },
      "source": [
        "#Optimal Solutions\n",
        "BHS_ridge_opt_coef, BHS_ridge_opt_int = optim_ridge(BostonHouse_scaled)\n",
        "BHS_lasso_opt_coef, BHS_lasso_opt_int = optim_lasso(BostonHouse_scaled)"
      ],
      "execution_count": null,
      "outputs": []
    },
    {
      "cell_type": "code",
      "metadata": {
        "id": "Vn6fP_mSXSob"
      },
      "source": [
        "#Visualize the optimum w vector and score for btoh lasso and ridge with alpha = 1\n",
        "print('ridge cost vector w: '+ str(BHS_ridge_opt_coef), 'ridge best intercept:' +str(BHS_ridge_opt_int))\n",
        "print()\n",
        "print('lasso cost vector w: '+str(BHS_lasso_opt_coef), 'lasso best intercept:'+str(BHS_lasso_opt_int))"
      ],
      "execution_count": null,
      "outputs": []
    },
    {
      "cell_type": "markdown",
      "metadata": {
        "id": "VlBoHa6HMJCH"
      },
      "source": [
        "###**Question 2**"
      ]
    },
    {
      "cell_type": "code",
      "metadata": {
        "id": "JTQHD5Ediv1n"
      },
      "source": [
        "#Values of alphas used throughout the experiment.\n",
        "alpha_use = [0, 0.001, 0.01, 0.1, 1, 10, 100]\n",
        "\n",
        "#Splitted 400 examples as training and 106 examples as testing (21%)\n",
        "#Used in both ridge and lasso regressions.\n",
        "BHS_splitted = boston_split(BostonHouse_scaled, 0.21)"
      ],
      "execution_count": null,
      "outputs": []
    },
    {
      "cell_type": "code",
      "metadata": {
        "id": "KuzD0ebSmejg"
      },
      "source": [
        "#Creation of coefficient matrix for ridge regression. First and second column represent the RMSE and\n",
        "#the intercept\n",
        "BHS_matrix_ridge= coeff_matrices(alpha_use, ridge_model, BHS_splitted[0], BHS_splitted[1], BHS_splitted[2], BHS_splitted[3])\n",
        "BHS_matrix_ridge"
      ],
      "execution_count": null,
      "outputs": []
    },
    {
      "cell_type": "code",
      "metadata": {
        "id": "s4E3ChEIDZGt"
      },
      "source": [
        "#Creation of coefficient matrix for lasso regression. First and second column represent the RMSE and\n",
        "#the intercept\n",
        "BHS_matrix_lasso= coeff_matrices(alpha_use, lasso_model, BHS_splitted[0], BHS_splitted[1], BHS_splitted[2], BHS_splitted[3])\n",
        "BHS_matrix_lasso"
      ],
      "execution_count": null,
      "outputs": []
    },
    {
      "cell_type": "code",
      "metadata": {
        "id": "-pqmd9pDDrnT"
      },
      "source": [
        "#Plotting the alpha vs RMSE for Ridge and Lasso regressions\n",
        "plot_rmse(alpha_use, BHS_matrix_ridge, 'Ridge')\n",
        "plot_rmse(alpha_use, BHS_matrix_lasso, 'Lasso')"
      ],
      "execution_count": null,
      "outputs": []
    },
    {
      "cell_type": "markdown",
      "metadata": {
        "id": "yl1c897pbKPo"
      },
      "source": [
        "### **Question 3**"
      ]
    },
    {
      "cell_type": "code",
      "metadata": {
        "id": "H4hpHDXpL6Oc"
      },
      "source": [
        "#From sklearn, return the best alpha and the mean square error\n",
        "#Using the same alphas as before.\n",
        "BHS_ridge_mse, BHS_ridge_alpha = ridge_kfold(alpha_use[1:],BHS_splitted[0], BHS_splitted[1])\n",
        "BHS_lasso_alpha = lasso_kfold(alpha_use[1:], BHS_splitted[0], BHS_splitted[1])"
      ],
      "execution_count": null,
      "outputs": []
    },
    {
      "cell_type": "code",
      "metadata": {
        "id": "BPQvExEyNHKF"
      },
      "source": [
        "#Reporting the best alphas from the 400 dataset.\n",
        "print('Ridge best alpha for BH scaled data: '+str(BHS_ridge_alpha))\n",
        "print('Lasso best alpha for BH scaled data: '+str(BHS_lasso_alpha))"
      ],
      "execution_count": null,
      "outputs": []
    },
    {
      "cell_type": "code",
      "metadata": {
        "id": "FBIPl5Jcs5jz"
      },
      "source": [
        "#Training the data once again using only the best alpha for ridge\n",
        "BHS_bestalpha_matrix_ridge= coeff_matrices([BHS_ridge_alpha], ridge_model, BHS_splitted[0], BHS_splitted[1], BHS_splitted[2], BHS_splitted[3])\n",
        "print('RMSE for best alpha in ridge on BH scaled data: '+str(BHS_bestalpha_matrix_ridge[0]))"
      ],
      "execution_count": null,
      "outputs": []
    },
    {
      "cell_type": "code",
      "metadata": {
        "id": "hR6n9HbfsMVc"
      },
      "source": [
        "#Training the data once again using only the best alpha for lasso\n",
        "BHS_bestalpha_matrix_lasso= coeff_matrices([BHS_lasso_alpha], lasso_model, BHS_splitted[0], BHS_splitted[1], BHS_splitted[2], BHS_splitted[3])\n",
        "print('RMSE for best alpha in lasso on BH scaled data: '+str(BHS_bestalpha_matrix_lasso[0]))"
      ],
      "execution_count": null,
      "outputs": []
    },
    {
      "cell_type": "markdown",
      "metadata": {
        "id": "PqJUEQmwuLBz"
      },
      "source": [
        "### **Question 4**"
      ]
    },
    {
      "cell_type": "code",
      "metadata": {
        "id": "IwQfW-e2uOgK"
      },
      "source": [
        "#Splitted 400 examples as training and 106 examples as testing (21%)\n",
        "#Used in both ridge and lasso regressions.\n",
        "BH_splitted = boston_split(BostonHouse, 0.21)"
      ],
      "execution_count": null,
      "outputs": []
    },
    {
      "cell_type": "code",
      "metadata": {
        "id": "81a61fWxucN6"
      },
      "source": [
        "#Using the same alphas as before.\n",
        "BH_ridge_mse, BH_ridge_alpha = ridge_kfold(alpha_use[1:],BH_splitted[0], BH_splitted[1])\n",
        "BH_lasso_alpha = lasso_kfold(alpha_use[1:], BH_splitted[0], BH_splitted[1])"
      ],
      "execution_count": null,
      "outputs": []
    },
    {
      "cell_type": "code",
      "metadata": {
        "id": "1ppYxvVQvIM7"
      },
      "source": [
        "#Reporting the best alphas from the 400 dataset on original BH data.\n",
        "print('Ridge best alpha for BH original data: '+str(BH_ridge_alpha))\n",
        "print('Lasso best alpha for BH original data: '+str(BH_lasso_alpha))"
      ],
      "execution_count": null,
      "outputs": []
    },
    {
      "cell_type": "code",
      "metadata": {
        "id": "UzY45K0evpPT"
      },
      "source": [
        "#Training the data only the best alpha for ridge on BH original data\n",
        "BH_bestalpha_matrix_ridge= coeff_matrices([BH_ridge_alpha], ridge_model, BH_splitted[0], BH_splitted[1], BH_splitted[2], BH_splitted[3])\n",
        "print('RMSE for best alpha in ridge on BH original data: '+str(BH_bestalpha_matrix_ridge[0]))"
      ],
      "execution_count": null,
      "outputs": []
    },
    {
      "cell_type": "code",
      "metadata": {
        "id": "iSbKGpR0v8AC"
      },
      "source": [
        "#Training the data once again using only the best alpha for lasso on BH original data\n",
        "BH_bestalpha_matrix_lasso= coeff_matrices([BH_lasso_alpha], lasso_model, BH_splitted[0], BH_splitted[1], BH_splitted[2], BH_splitted[3])\n",
        "print('RMSE for best alpha in lasso on BH original data: '+str(BH_bestalpha_matrix_lasso[0]))"
      ],
      "execution_count": null,
      "outputs": []
    },
    {
      "cell_type": "markdown",
      "metadata": {
        "id": "fYJCE-_5waB6"
      },
      "source": [
        "## **Problem 2**"
      ]
    },
    {
      "cell_type": "markdown",
      "metadata": {
        "id": "cywvdGXG3s0j"
      },
      "source": [
        "### **Question 1**"
      ]
    },
    {
      "cell_type": "code",
      "metadata": {
        "id": "_nCiXwyW9PD1"
      },
      "source": [
        "#Data split into traiing and testing sets\n",
        "e2006_data = e2006_split(E2006_train, E2006_test)"
      ],
      "execution_count": null,
      "outputs": []
    },
    {
      "cell_type": "code",
      "metadata": {
        "id": "VDVrN3gS4-0a"
      },
      "source": [
        "print(e2006_data[0].shape,len(e2006_data[1]),e2006_data[2].shape,len(e2006_data[3]))"
      ],
      "execution_count": null,
      "outputs": []
    },
    {
      "cell_type": "code",
      "metadata": {
        "id": "wCU_paLUxEhj"
      },
      "source": [
        "#Optimal Solutions\n",
        "e2006_ridge_opt_coef, e2006_ridge_opt_int = optim_ridge_e20(e2006_data)\n",
        "e2006_lasso_opt_coef, e2006_lasso_opt_int = optim_lasso_e20(e2006_data)"
      ],
      "execution_count": null,
      "outputs": []
    },
    {
      "cell_type": "code",
      "metadata": {
        "id": "D4gAp14yxEhk"
      },
      "source": [
        "#Visualize the optimum w vector and score for btoh lasso and ridge with alpha = 1\n",
        "print('ridge cost vector w:'+ str(e2006_ridge_opt_coef), 'ridge best intercept:' +str(e2006_ridge_opt_int))\n",
        "print()\n",
        "print('lasso cost vector w:'+str(e2006_lasso_opt_coef), 'lasso best intercept:'+str(e2006_lasso_opt_int))"
      ],
      "execution_count": null,
      "outputs": []
    },
    {
      "cell_type": "markdown",
      "metadata": {
        "id": "OFuojUnS30UL"
      },
      "source": [
        "### **Question 2**"
      ]
    },
    {
      "cell_type": "code",
      "metadata": {
        "id": "NcGpEMYX38hS"
      },
      "source": [
        "#Creation of coefficient matrix for ridge regression for the E2006data\n",
        "e2006_matrix_ridge= coeff_matrices(alpha_use, ridge_model, e2006_data[0], e2006_data[1], e2006_data[2], e2006_data[3])\n",
        "e2006_matrix_ridge"
      ],
      "execution_count": null,
      "outputs": []
    },
    {
      "cell_type": "code",
      "metadata": {
        "id": "ygJAUnRd38hS"
      },
      "source": [
        "#Creation of coefficient matrix for lasso regression. First and second column represent the RMSE and\n",
        "#the intercept\n",
        "e2006_matrix_lasso= coeff_matrices(alpha_use, lasso_model, e2006_data[0], e2006_data[1], e2006_data[2], e2006_data[3])\n",
        "e2006_matrix_lasso"
      ],
      "execution_count": null,
      "outputs": []
    },
    {
      "cell_type": "code",
      "metadata": {
        "id": "tJDUsI2738hT"
      },
      "source": [
        "#Plotting the alpha vs RMSE for Ridge and Lasso regressions\n",
        "plot_rmse(alpha_use, e2006_matrix_ridge, 'Ridge')\n",
        "plot_rmse(alpha_use, e2006_matrix_lasso, 'Lasso')"
      ],
      "execution_count": null,
      "outputs": []
    },
    {
      "cell_type": "markdown",
      "metadata": {
        "id": "ADcZecz3C_e-"
      },
      "source": [
        "### **Question 3**"
      ]
    },
    {
      "cell_type": "code",
      "metadata": {
        "id": "GCJu57xKC8GL"
      },
      "source": [
        "#From sklearn, return the best alpha and the mean square error\n",
        "#Using the same alphas as before.\n",
        "e2006_ridge_mse, e2006_ridge_alpha = ridge_kfold(alpha_use[1:],e2006_splitted[0], e2006_splitted[1])\n",
        "e2006_lasso_alpha = e2006_kfold(alpha_use[1:], e2006_splitted[0], e2006_splitted[1])"
      ],
      "execution_count": null,
      "outputs": []
    },
    {
      "cell_type": "code",
      "metadata": {
        "id": "w-KqXYuBC8GM"
      },
      "source": [
        "#Reporting the best alphas from the training dataset.\n",
        "print('Ridge best alpha for e2006 data: '+str(e2006_ridge_alpha))\n",
        "print('Lasso best alpha for e2006 data: '+str(e2006_lasso_alpha))"
      ],
      "execution_count": null,
      "outputs": []
    },
    {
      "cell_type": "code",
      "metadata": {
        "id": "lTUNcLGKC8GM"
      },
      "source": [
        "#Training the data once again using only the best alpha for ridge\n",
        "e2006_bestalpha_matrix_ridge= coeff_matrices([e2006_ridge_alpha], ridge_model, e2006_splitted[0], e2006_splitted[1], e2006_splitted[2], e2006_splitted[3])\n",
        "print('RMSE for best alpha in ridge on e2006 data: '+str(e2006_bestalpha_matrix_ridge[0]))"
      ],
      "execution_count": null,
      "outputs": []
    },
    {
      "cell_type": "code",
      "metadata": {
        "id": "BfcjqDOQC8GN"
      },
      "source": [
        "#Training the data once again using only the best alpha for lasso\n",
        "e2006_bestalpha_matrix_lasso= coeff_matrices([e2006_lasso_alpha], lasso_model, e2006_splitted[0], e2006_splitted[1], e2006_splitted[2], e2006_splitted[3])\n",
        "print('RMSE for best alpha in lasso on e2006 data: '+str(e2006_bestalpha_matrix_lasso[0]))"
      ],
      "execution_count": null,
      "outputs": []
    }
  ]
}