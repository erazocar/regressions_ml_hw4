{
  "nbformat": 4,
  "nbformat_minor": 0,
  "metadata": {
    "colab": {
      "name": "Ridge_Lasso_HW4.ipynb",
      "provenance": [],
      "collapsed_sections": [],
      "mount_file_id": "1FiHcccSp8uAP8LcQGnEFPdgy8IjifOnF",
      "authorship_tag": "ABX9TyPKacKK0Rd1wAQFXoK/kXVM",
      "include_colab_link": true
    },
    "kernelspec": {
      "name": "python3",
      "display_name": "Python 3"
    },
    "language_info": {
      "name": "python"
    }
  },
  "cells": [
    {
      "cell_type": "markdown",
      "metadata": {
        "id": "view-in-github",
        "colab_type": "text"
      },
      "source": [
        "<a href=\"https://colab.research.google.com/github/erazocar/regressions_ml_hw4/blob/main/Ridge_Lasso_HW4.ipynb\" target=\"_parent\"><img src=\"https://colab.research.google.com/assets/colab-badge.svg\" alt=\"Open In Colab\"/></a>"
      ]
    },
    {
      "cell_type": "markdown",
      "metadata": {
        "id": "Fmy1FmF5IRf1"
      },
      "source": [
        "# **Lasso and Ridge Regression Analysis**\n",
        "# **Required Libraries**"
      ]
    },
    {
      "cell_type": "code",
      "metadata": {
        "id": "AltcjEBB7nvq"
      },
      "source": [
        "#importing required libraries\n",
        "import numpy as np\n",
        "import os\n",
        "import pandas as pd\n",
        "import scipy as sp\n",
        "\n",
        "#Gensim library for document selection and LSI\n",
        "import sklearn as sk\n",
        "from sklearn import datasets\n",
        "from sklearn import linear_model as lm\n",
        "\n",
        "#Visualization libraries\n",
        "import matplotlib.pyplot as plt"
      ],
      "execution_count": 1,
      "outputs": []
    },
    {
      "cell_type": "markdown",
      "metadata": {
        "id": "2G5B9FT9h6Lv"
      },
      "source": [
        "## **Function Definition**"
      ]
    },
    {
      "cell_type": "code",
      "metadata": {
        "id": "18KYje0w3atd"
      },
      "source": [
        "#Reader for each file, appended to a list.\n",
        "def reader(path):\n",
        "  data = pd.read_csv(path, delim_whitespace=True, header = None)\n",
        "  for i,j in enumerate(data.values):\n",
        "    for k in range(len(j)):\n",
        "      if (isinstance(j[k], str)):\n",
        "        data.loc[i,k] = float(j[k].split(':')[1])\n",
        "  return data"
      ],
      "execution_count": 2,
      "outputs": []
    },
    {
      "cell_type": "code",
      "metadata": {
        "id": "eC1X3rcq3qjA"
      },
      "source": [
        "#Creating dataset and labels for the Boston housing data\n",
        "def boston_split(sets, testing_size):\n",
        "  var = []\n",
        "  #Separating data into dataset and labels\n",
        "  variables = sets.drop(0, axis=1)\n",
        "  labels = sets[0]\n",
        "\n",
        "  #Splitting the data into training and testing datasets, depending on the\n",
        "  #size of the test\n",
        "  splitter = sk.model_selection.train_test_split\n",
        "  X_train, X_test, y_train, y_test = splitter(variables, labels, test_size = testing_size)\n",
        "  var.append(X_train)\n",
        "  var.append(y_train)\n",
        "  var.append(X_test)\n",
        "  var.append(y_test)\n",
        "  return var"
      ],
      "execution_count": 3,
      "outputs": []
    },
    {
      "cell_type": "code",
      "metadata": {
        "id": "rqruTZcNjYVs"
      },
      "source": [
        "#Optimal solution function Ridge for BS data\n",
        "def optim_ridge(data):\n",
        "  ridgereg = lm.Ridge(alpha = 1 * (2*data[0].count()))\n",
        "  ridgereg.fit(data.drop(0, axis=1),data[0])\n",
        "  return ridgereg.coef_, ridgereg.intercept_"
      ],
      "execution_count": 4,
      "outputs": []
    },
    {
      "cell_type": "code",
      "metadata": {
        "id": "umJ8ssePj_sQ"
      },
      "source": [
        "#Optimal solution function Lasso for BS data\n",
        "def optim_lasso(data):\n",
        "  lassoreg = lm.Lasso(alpha = 1)\n",
        "  lassoreg.fit(data.drop(0, axis=1),data[0])\n",
        "  return lassoreg.coef_, lassoreg.intercept_"
      ],
      "execution_count": 5,
      "outputs": []
    },
    {
      "cell_type": "code",
      "metadata": {
        "id": "DXEaxueZye2a"
      },
      "source": [
        "#Optimal solution function Ridge for E2006 data\n",
        "def optim_ridge_e20(data):\n",
        "  ridgereg = lm.Ridge(alpha = 1 * (2*len(data[1])))\n",
        "  ridgereg.fit(data[0],data[1])\n",
        "  return ridgereg.coef_, ridgereg.intercept_"
      ],
      "execution_count": 6,
      "outputs": []
    },
    {
      "cell_type": "code",
      "metadata": {
        "id": "NA2t9SHIyspg"
      },
      "source": [
        "#Optimal solution function Lasso for E2006 data\n",
        "def optim_lasso_e20(data):\n",
        "  lassoreg = lm.Lasso(alpha = 1)\n",
        "  lassoreg.fit(data[0],data[1])\n",
        "  return lassoreg.coef_, lassoreg.intercept_"
      ],
      "execution_count": 7,
      "outputs": []
    },
    {
      "cell_type": "code",
      "metadata": {
        "id": "vD6gqGX4v9jt"
      },
      "source": [
        "#Ridge model generator (also plotter)\n",
        "def ridge_model(X_train, y_train, X_test, y_test, alpha):\n",
        "  #Fitting the model\n",
        "  ridgereg = lm.Ridge(alpha=alpha*(2*len(y_train)))\n",
        "  ridgereg.fit(X_train, y_train)\n",
        "  y_pred_train = ridgereg.predict(X_train)\n",
        "  y_pred = ridgereg.predict(X_test)\n",
        "\n",
        "  plt.scatter(y_test, y_pred)\n",
        "  plt.tight_layout()\n",
        "  plt.title('Plot for alpha: %.3g'%alpha)\n",
        "  plt.show()\n",
        "\n",
        "  rss = sum ((y_pred-y_test)**2)\n",
        "  ret = [rss]\n",
        "  ret.extend([ridgereg.intercept_])\n",
        "  ret.extend(ridgereg.coef_)\n",
        "  return ret"
      ],
      "execution_count": 8,
      "outputs": []
    },
    {
      "cell_type": "code",
      "metadata": {
        "id": "d5nGLb-2Jymb"
      },
      "source": [
        "#Lasso model generator (also plotter)\n",
        "def lasso_model(X_train, y_train, X_test, y_test, alpha):\n",
        "  #Fitting the model\n",
        "  lassoreg = lm.Lasso(alpha=alpha)\n",
        "  lassoreg.fit(X_train, y_train)\n",
        "  y_pred_train = lassoreg.predict(X_train)\n",
        "  y_pred = lassoreg.predict(X_test)\n",
        "\n",
        "  plt.scatter(y_test, y_pred)\n",
        "  plt.tight_layout()\n",
        "  plt.title('Plot for alpha: %.3g'%alpha)\n",
        "  plt.show()\n",
        "\n",
        "  rss = sum ((y_pred-y_test)**2)\n",
        "  ret = [rss]\n",
        "  ret.extend([lassoreg.intercept_])\n",
        "  ret.extend(lassoreg.coef_)\n",
        "  return ret"
      ],
      "execution_count": 9,
      "outputs": []
    },
    {
      "cell_type": "code",
      "metadata": {
        "id": "P7My7QaP6GiQ"
      },
      "source": [
        "#Creating dataset and labels for the E2006 dataset\n",
        "def e2006_split(training_set, testing_set):\n",
        "  var  = []\n",
        "  var.append(training_set[0])\n",
        "  var.append(training_set[1])\n",
        "  var.append(testing_set[0])\n",
        "  var.append(testing_set[1])\n",
        "\n",
        "  return var"
      ],
      "execution_count": 10,
      "outputs": []
    },
    {
      "cell_type": "code",
      "metadata": {
        "id": "_FOMhlHYzkZp"
      },
      "source": [
        "#Coefficient matrix generator\n",
        "def coeff_matrices(alphas,model, X_train, y_train, X_test, y_test):\n",
        "  var = []\n",
        "  ind = ['alpha_%.2g'%alphas[i] for i in range(len(alphas))]\n",
        "  for i in range(len(alphas)):\n",
        "    var.append(model(X_train, y_train, X_test, y_test, alphas[i]))\n",
        "  \n",
        "  matrix = pd.DataFrame(var, index=ind)\n",
        "  return matrix"
      ],
      "execution_count": 11,
      "outputs": []
    },
    {
      "cell_type": "code",
      "metadata": {
        "id": "lDlIDKnsCDzW"
      },
      "source": [
        "#Plot RMSE for the datasets\n",
        "def plot_rmse(alphas, matrix, name):\n",
        "  plt.plot(alphas, matrix[0])\n",
        "  plt.tight_layout()\n",
        "  plt.title('Alpha vs RMSE for ' + name)\n",
        "  plt.show()"
      ],
      "execution_count": 12,
      "outputs": []
    },
    {
      "cell_type": "code",
      "metadata": {
        "id": "499tVygOLHQD"
      },
      "source": [
        "#Function calculation Kfold CV for ridge regression\n",
        "def ridge_kfold(alphas,X_train, y_train):\n",
        "  regressor = lm.RidgeCV(alphas = alphas)\n",
        "  regressor.fit(X_train, y_train)\n",
        "  return regressor.alpha_"
      ],
      "execution_count": 13,
      "outputs": []
    },
    {
      "cell_type": "code",
      "metadata": {
        "id": "JXY__TyWhHuZ"
      },
      "source": [
        "#Function calculation Kfold CV for lasso regression\n",
        "def lasso_kfold(alphas, X_train, y_train):\n",
        "  regressor = lm.LassoCV(alphas=alphas)\n",
        "  regressor.fit(X_train, y_train)\n",
        "  return regressor.alpha_"
      ],
      "execution_count": 14,
      "outputs": []
    },
    {
      "cell_type": "markdown",
      "metadata": {
        "id": "Y3wuDsWDAqI6"
      },
      "source": [
        "## **Preprocessing**"
      ]
    },
    {
      "cell_type": "code",
      "metadata": {
        "id": "kwDY-G6-7Vob"
      },
      "source": [
        "#Read paths and create contents for the documents.\n",
        "#Please put the local paths were the queries and docs are located when running.\n",
        "#Data for problem 1\n",
        "path1 = '/content/drive/MyDrive/MachineLearning/homework-4/house.txt'\n",
        "path2 = '/content/drive/MyDrive/MachineLearning/homework-4/house_scale.txt'\n",
        "\n",
        "BostonHouse = reader(path1)\n",
        "BostonHouse_scaled = reader(path2)"
      ],
      "execution_count": 15,
      "outputs": []
    },
    {
      "cell_type": "code",
      "metadata": {
        "id": "wWlpyQzzma81"
      },
      "source": [
        "#Data for problem 2\n",
        "path3 = '/content/drive/MyDrive/MachineLearning/homework-4/E2006test.txt'\n",
        "path4 = '/content/drive/MyDrive/MachineLearning/homework-4/E2006train.txt'\n",
        "\n",
        "#Reading the data from E2006 files using sklearn tools\n",
        "E2006_test = datasets.load_svmlight_file(path3)\n",
        "E2006_train = datasets.load_svmlight_file(path4)"
      ],
      "execution_count": 16,
      "outputs": []
    },
    {
      "cell_type": "markdown",
      "metadata": {
        "id": "dKJrI-az8XZx"
      },
      "source": [
        "## **Problem 1**"
      ]
    },
    {
      "cell_type": "markdown",
      "metadata": {
        "id": "5kMHAY6ET1TG"
      },
      "source": [
        "###**Question 1**\n"
      ]
    },
    {
      "cell_type": "code",
      "metadata": {
        "id": "hZAOcIOfcvre"
      },
      "source": [
        "#Optimal Solutions\n",
        "BHS_ridge_opt_coef, BHS_ridge_opt_int = optim_ridge(BostonHouse_scaled)\n",
        "BHS_lasso_opt_coef, BHS_lasso_opt_int = optim_lasso(BostonHouse_scaled)"
      ],
      "execution_count": 17,
      "outputs": []
    },
    {
      "cell_type": "code",
      "metadata": {
        "id": "Vn6fP_mSXSob",
        "colab": {
          "base_uri": "https://localhost:8080/"
        },
        "outputId": "e1d2b0e0-b83d-48d5-d076-3d4d5ad9b112"
      },
      "source": [
        "#Visualize the optimum w vector and score for btoh lasso and ridge with alpha = 1\n",
        "print('ridge cost vector w: '+ str(BHS_ridge_opt_coef), 'ridge best intercept:' +str(BHS_ridge_opt_int))\n",
        "print()\n",
        "print('lasso cost vector w: '+str(BHS_lasso_opt_coef), 'lasso best intercept:'+str(BHS_lasso_opt_int))"
      ],
      "execution_count": 18,
      "outputs": [
        {
          "output_type": "stream",
          "name": "stdout",
          "text": [
            "ridge cost vector w: [-0.21037524  0.45090389 -0.62643104  0.35495024 -0.49434926  0.7018458\n",
            " -0.51369302  0.12345353 -0.59464792 -0.72642006 -0.75432354  0.43114583\n",
            " -0.97534982] ridge best intercept:22.111442512621373\n",
            "\n",
            "lasso cost vector w: [-0.          0.         -0.          0.         -0.          0.\n",
            " -0.          0.         -0.         -0.42655753 -2.11418534  0.\n",
            " -9.46050116] lasso best intercept:19.22869043481334\n"
          ]
        }
      ]
    },
    {
      "cell_type": "markdown",
      "metadata": {
        "id": "VlBoHa6HMJCH"
      },
      "source": [
        "###**Question 2**"
      ]
    },
    {
      "cell_type": "code",
      "metadata": {
        "id": "JTQHD5Ediv1n"
      },
      "source": [
        "#Values of alphas used throughout the experiment.\n",
        "alpha_use = [0, 0.001, 0.01, 0.1, 1, 10, 100]\n",
        "\n",
        "#Splitted 400 examples as training and 106 examples as testing (21%)\n",
        "#Used in both ridge and lasso regressions.\n",
        "BHS_splitted = boston_split(BostonHouse_scaled, 0.21)"
      ],
      "execution_count": 19,
      "outputs": []
    },
    {
      "cell_type": "code",
      "metadata": {
        "id": "KuzD0ebSmejg",
        "colab": {
          "base_uri": "https://localhost:8080/",
          "height": 1000
        },
        "outputId": "23473cf8-8f0e-4323-fd85-717f1147586e"
      },
      "source": [
        "#Creation of coefficient matrix for ridge regression. First and second column represent the RMSE and\n",
        "#the intercept\n",
        "BHS_matrix_ridge= coeff_matrices(alpha_use, ridge_model, BHS_splitted[0], BHS_splitted[1], BHS_splitted[2], BHS_splitted[3])\n",
        "BHS_matrix_ridge"
      ],
      "execution_count": 20,
      "outputs": [
        {
          "output_type": "display_data",
          "data": {
            "image/png": "[encoded data removed]",
            "text/plain": [
              "<Figure size 432x288 with 1 Axes>"
            ]
          },
          "metadata": {
            "needs_background": "light"
          }
        },
        {
          "output_type": "display_data",
          "data": {
            "image/png": "[encoded data removed]",
            "text/plain": [
              "<Figure size 432x288 with 1 Axes>"
            ]
          },
          "metadata": {
            "needs_background": "light"
          }
        },
        {
          "output_type": "display_data",
          "data": {
            "image/png": "[encoded data removed]",
            "text/plain": [
              "<Figure size 432x288 with 1 Axes>"
            ]
          },
          "metadata": {
            "needs_background": "light"
          }
        },
        {
          "output_type": "display_data",
          "data": {
            "image/png": "[encoded data removed]",
            "text/plain": [
              "<Figure size 432x288 with 1 Axes>"
            ]
          },
          "metadata": {
            "needs_background": "light"
          }
        },
        {
          "output_type": "display_data",
          "data": {
            "image/png": "[encoded data removed]",
            "text/plain": [
              "<Figure size 432x288 with 1 Axes>"
            ]
          },
          "metadata": {
            "needs_background": "light"
          }
        },
        {
          "output_type": "display_data",
          "data": {
            "image/png": "[encoded data removed]",
            "text/plain": [
              "<Figure size 432x288 with 1 Axes>"
            ]
          },
          "metadata": {
            "needs_background": "light"
          }
        },
        {
          "output_type": "display_data",
          "data": {
            "image/png": "[encoded data removed]",
            "text/plain": [
              "<Figure size 432x288 with 1 Axes>"
            ]
          },
          "metadata": {
            "needs_background": "light"
          }
        },
        {
          "output_type": "execute_result",
          "data": {
            "text/html": [
              "<div>\n",
              "<style scoped>\n",
              "    .dataframe tbody tr th:only-of-type {\n",
              "        vertical-align: middle;\n",
              "    }\n",
              "\n",
              "    .dataframe tbody tr th {\n",
              "        vertical-align: top;\n",
              "    }\n",
              "\n",
              "    .dataframe thead th {\n",
              "        text-align: right;\n",
              "    }\n",
              "</style>\n",
              "<table border=\"1\" class=\"dataframe\">\n",
              "  <thead>\n",
              "    <tr style=\"text-align: right;\">\n",
              "      <th></th>\n",
              "      <th>0</th>\n",
              "      <th>1</th>\n",
              "      <th>2</th>\n",
              "      <th>3</th>\n",
              "      <th>4</th>\n",
              "      <th>5</th>\n",
              "      <th>6</th>\n",
              "      <th>7</th>\n",
              "      <th>8</th>\n",
              "      <th>9</th>\n",
              "      <th>10</th>\n",
              "      <th>11</th>\n",
              "      <th>12</th>\n",
              "      <th>13</th>\n",
              "      <th>14</th>\n",
              "    </tr>\n",
              "  </thead>\n",
              "  <tbody>\n",
              "    <tr>\n",
              "      <th>alpha_0</th>\n",
              "      <td>3168.989276</td>\n",
              "      <td>11.590168</td>\n",
              "      <td>-4.503689</td>\n",
              "      <td>1.852262</td>\n",
              "      <td>-0.134246</td>\n",
              "      <td>1.062627</td>\n",
              "      <td>-3.548593</td>\n",
              "      <td>10.330970</td>\n",
              "      <td>-0.503773</td>\n",
              "      <td>-7.496091</td>\n",
              "      <td>3.020617</td>\n",
              "      <td>-3.081556</td>\n",
              "      <td>-4.292154</td>\n",
              "      <td>2.042256</td>\n",
              "      <td>-8.653637</td>\n",
              "    </tr>\n",
              "    <tr>\n",
              "      <th>alpha_0.001</th>\n",
              "      <td>3200.864480</td>\n",
              "      <td>12.075404</td>\n",
              "      <td>-4.145692</td>\n",
              "      <td>1.744801</td>\n",
              "      <td>-0.237970</td>\n",
              "      <td>1.087285</td>\n",
              "      <td>-3.359129</td>\n",
              "      <td>10.114307</td>\n",
              "      <td>-0.475768</td>\n",
              "      <td>-7.101031</td>\n",
              "      <td>2.837143</td>\n",
              "      <td>-2.914546</td>\n",
              "      <td>-4.272786</td>\n",
              "      <td>2.039692</td>\n",
              "      <td>-8.637592</td>\n",
              "    </tr>\n",
              "    <tr>\n",
              "      <th>alpha_0.01</th>\n",
              "      <td>3501.068922</td>\n",
              "      <td>14.712653</td>\n",
              "      <td>-2.531162</td>\n",
              "      <td>1.247874</td>\n",
              "      <td>-0.795850</td>\n",
              "      <td>1.224650</td>\n",
              "      <td>-2.364855</td>\n",
              "      <td>8.552154</td>\n",
              "      <td>-0.398028</td>\n",
              "      <td>-4.900399</td>\n",
              "      <td>1.882378</td>\n",
              "      <td>-2.115495</td>\n",
              "      <td>-4.084264</td>\n",
              "      <td>1.971047</td>\n",
              "      <td>-8.136990</td>\n",
              "    </tr>\n",
              "    <tr>\n",
              "      <th>alpha_0.1</th>\n",
              "      <td>5550.544158</td>\n",
              "      <td>19.864281</td>\n",
              "      <td>-0.796166</td>\n",
              "      <td>0.910993</td>\n",
              "      <td>-1.298030</td>\n",
              "      <td>1.177655</td>\n",
              "      <td>-1.096874</td>\n",
              "      <td>3.689558</td>\n",
              "      <td>-0.766159</td>\n",
              "      <td>-1.009735</td>\n",
              "      <td>-0.021137</td>\n",
              "      <td>-1.291466</td>\n",
              "      <td>-2.635084</td>\n",
              "      <td>1.330617</td>\n",
              "      <td>-4.273853</td>\n",
              "    </tr>\n",
              "    <tr>\n",
              "      <th>alpha_1</th>\n",
              "      <td>8923.633859</td>\n",
              "      <td>21.721489</td>\n",
              "      <td>-0.219624</td>\n",
              "      <td>0.444730</td>\n",
              "      <td>-0.620570</td>\n",
              "      <td>0.295032</td>\n",
              "      <td>-0.524501</td>\n",
              "      <td>0.651767</td>\n",
              "      <td>-0.560412</td>\n",
              "      <td>0.162696</td>\n",
              "      <td>-0.596495</td>\n",
              "      <td>-0.711789</td>\n",
              "      <td>-0.690098</td>\n",
              "      <td>0.432917</td>\n",
              "      <td>-0.941984</td>\n",
              "    </tr>\n",
              "    <tr>\n",
              "      <th>alpha_10</th>\n",
              "      <td>11041.463215</td>\n",
              "      <td>22.114981</td>\n",
              "      <td>-0.033289</td>\n",
              "      <td>0.071787</td>\n",
              "      <td>-0.101948</td>\n",
              "      <td>0.032896</td>\n",
              "      <td>-0.089765</td>\n",
              "      <td>0.076705</td>\n",
              "      <td>-0.098090</td>\n",
              "      <td>0.043013</td>\n",
              "      <td>-0.118883</td>\n",
              "      <td>-0.124022</td>\n",
              "      <td>-0.093671</td>\n",
              "      <td>0.065569</td>\n",
              "      <td>-0.124038</td>\n",
              "    </tr>\n",
              "    <tr>\n",
              "      <th>alpha_1e+02</th>\n",
              "      <td>11470.067325</td>\n",
              "      <td>22.180165</td>\n",
              "      <td>-0.003533</td>\n",
              "      <td>0.007663</td>\n",
              "      <td>-0.010912</td>\n",
              "      <td>0.003317</td>\n",
              "      <td>-0.009656</td>\n",
              "      <td>0.007855</td>\n",
              "      <td>-0.010569</td>\n",
              "      <td>0.004791</td>\n",
              "      <td>-0.012978</td>\n",
              "      <td>-0.013366</td>\n",
              "      <td>-0.009787</td>\n",
              "      <td>0.006954</td>\n",
              "      <td>-0.012917</td>\n",
              "    </tr>\n",
              "  </tbody>\n",
              "</table>\n",
              "</div>"
            ],
            "text/plain": [
              "                       0          1         2   ...        12        13        14\n",
              "alpha_0       3168.989276  11.590168 -4.503689  ... -4.292154  2.042256 -8.653637\n",
              "alpha_0.001   3200.864480  12.075404 -4.145692  ... -4.272786  2.039692 -8.637592\n",
              "alpha_0.01    3501.068922  14.712653 -2.531162  ... -4.084264  1.971047 -8.136990\n",
              "alpha_0.1     5550.544158  19.864281 -0.796166  ... -2.635084  1.330617 -4.273853\n",
              "alpha_1       8923.633859  21.721489 -0.219624  ... -0.690098  0.432917 -0.941984\n",
              "alpha_10     11041.463215  22.114981 -0.033289  ... -0.093671  0.065569 -0.124038\n",
              "alpha_1e+02  11470.067325  22.180165 -0.003533  ... -0.009787  0.006954 -0.012917\n",
              "\n",
              "[7 rows x 15 columns]"
            ]
          },
          "metadata": {},
          "execution_count": 20
        }
      ]
    },
    {
      "cell_type": "code",
      "metadata": {
        "id": "s4E3ChEIDZGt",
        "colab": {
          "base_uri": "https://localhost:8080/",
          "height": 1000
        },
        "outputId": "5793ba7d-02cd-4811-9a88-20844ff95029"
      },
      "source": [
        "#Creation of coefficient matrix for lasso regression. First and second column represent the RMSE and\n",
        "#the intercept\n",
        "BHS_matrix_lasso= coeff_matrices(alpha_use, lasso_model, BHS_splitted[0], BHS_splitted[1], BHS_splitted[2], BHS_splitted[3])\n",
        "BHS_matrix_lasso"
      ],
      "execution_count": 21,
      "outputs": [
        {
          "output_type": "stream",
          "name": "stderr",
          "text": [
            "/usr/local/lib/python3.7/dist-packages/ipykernel_launcher.py:5: UserWarning: With alpha=0, this algorithm does not converge well. You are advised to use the LinearRegression estimator\n",
            "  \"\"\"\n",
            "/usr/local/lib/python3.7/dist-packages/sklearn/linear_model/_coordinate_descent.py:476: UserWarning: Coordinate descent with no regularization may lead to unexpected results and is discouraged.\n",
            "  positive)\n",
            "/usr/local/lib/python3.7/dist-packages/sklearn/linear_model/_coordinate_descent.py:476: ConvergenceWarning: Objective did not converge. You might want to increase the number of iterations. Duality gap: 4013.951564265866, tolerance: 3.125360225563911\n",
            "  positive)\n"
          ]
        },
        {
          "output_type": "display_data",
          "data": {
            "image/png": "[encoded data removed]",
            "text/plain": [
              "<Figure size 432x288 with 1 Axes>"
            ]
          },
          "metadata": {
            "needs_background": "light"
          }
        },
        {
          "output_type": "display_data",
          "data": {
            "image/png": "[encoded data removed]",
            "text/plain": [
              "<Figure size 432x288 with 1 Axes>"
            ]
          },
          "metadata": {
            "needs_background": "light"
          }
        },
        {
          "output_type": "display_data",
          "data": {
            "image/png": "[encoded data removed]",
            "text/plain": [
              "<Figure size 432x288 with 1 Axes>"
            ]
          },
          "metadata": {
            "needs_background": "light"
          }
        },
        {
          "output_type": "display_data",
          "data": {
            "image/png": "[encoded data removed]",
            "text/plain": [
              "<Figure size 432x288 with 1 Axes>"
            ]
          },
          "metadata": {
            "needs_background": "light"
          }
        },
        {
          "output_type": "display_data",
          "data": {
            "image/png": "[encoded data removed]",
            "text/plain": [
              "<Figure size 432x288 with 1 Axes>"
            ]
          },
          "metadata": {
            "needs_background": "light"
          }
        },
        {
          "output_type": "display_data",
          "data": {
            "image/png": "[encoded data removed]",
            "text/plain": [
              "<Figure size 432x288 with 1 Axes>"
            ]
          },
          "metadata": {
            "needs_background": "light"
          }
        },
        {
          "output_type": "display_data",
          "data": {
            "image/png": "[encoded data removed]",
            "text/plain": [
              "<Figure size 432x288 with 1 Axes>"
            ]
          },
          "metadata": {
            "needs_background": "light"
          }
        },
        {
          "output_type": "execute_result",
          "data": {
            "text/html": [
              "<div>\n",
              "<style scoped>\n",
              "    .dataframe tbody tr th:only-of-type {\n",
              "        vertical-align: middle;\n",
              "    }\n",
              "\n",
              "    .dataframe tbody tr th {\n",
              "        vertical-align: top;\n",
              "    }\n",
              "\n",
              "    .dataframe thead th {\n",
              "        text-align: right;\n",
              "    }\n",
              "</style>\n",
              "<table border=\"1\" class=\"dataframe\">\n",
              "  <thead>\n",
              "    <tr style=\"text-align: right;\">\n",
              "      <th></th>\n",
              "      <th>0</th>\n",
              "      <th>1</th>\n",
              "      <th>2</th>\n",
              "      <th>3</th>\n",
              "      <th>4</th>\n",
              "      <th>5</th>\n",
              "      <th>6</th>\n",
              "      <th>7</th>\n",
              "      <th>8</th>\n",
              "      <th>9</th>\n",
              "      <th>10</th>\n",
              "      <th>11</th>\n",
              "      <th>12</th>\n",
              "      <th>13</th>\n",
              "      <th>14</th>\n",
              "    </tr>\n",
              "  </thead>\n",
              "  <tbody>\n",
              "    <tr>\n",
              "      <th>alpha_0</th>\n",
              "      <td>3168.989276</td>\n",
              "      <td>11.590168</td>\n",
              "      <td>-4.503689</td>\n",
              "      <td>1.852262</td>\n",
              "      <td>-0.134246</td>\n",
              "      <td>1.062627</td>\n",
              "      <td>-3.548593</td>\n",
              "      <td>10.330970</td>\n",
              "      <td>-0.503773</td>\n",
              "      <td>-7.496091</td>\n",
              "      <td>3.020617</td>\n",
              "      <td>-3.081556</td>\n",
              "      <td>-4.292154</td>\n",
              "      <td>2.042256</td>\n",
              "      <td>-8.653637</td>\n",
              "    </tr>\n",
              "    <tr>\n",
              "      <th>alpha_0.001</th>\n",
              "      <td>3171.630031</td>\n",
              "      <td>11.644693</td>\n",
              "      <td>-4.454484</td>\n",
              "      <td>1.836169</td>\n",
              "      <td>-0.135565</td>\n",
              "      <td>1.061764</td>\n",
              "      <td>-3.529756</td>\n",
              "      <td>10.331043</td>\n",
              "      <td>-0.496986</td>\n",
              "      <td>-7.449334</td>\n",
              "      <td>2.987488</td>\n",
              "      <td>-3.053075</td>\n",
              "      <td>-4.287904</td>\n",
              "      <td>2.038632</td>\n",
              "      <td>-8.659800</td>\n",
              "    </tr>\n",
              "    <tr>\n",
              "      <th>alpha_0.01</th>\n",
              "      <td>3197.263140</td>\n",
              "      <td>12.134892</td>\n",
              "      <td>-4.012433</td>\n",
              "      <td>1.691800</td>\n",
              "      <td>-0.147003</td>\n",
              "      <td>1.053871</td>\n",
              "      <td>-3.360288</td>\n",
              "      <td>10.330915</td>\n",
              "      <td>-0.435585</td>\n",
              "      <td>-7.028572</td>\n",
              "      <td>2.690856</td>\n",
              "      <td>-2.798404</td>\n",
              "      <td>-4.249763</td>\n",
              "      <td>2.006042</td>\n",
              "      <td>-8.715687</td>\n",
              "    </tr>\n",
              "    <tr>\n",
              "      <th>alpha_0.1</th>\n",
              "      <td>3625.007981</td>\n",
              "      <td>16.753299</td>\n",
              "      <td>-0.000000</td>\n",
              "      <td>0.265039</td>\n",
              "      <td>-0.194932</td>\n",
              "      <td>0.961162</td>\n",
              "      <td>-1.645185</td>\n",
              "      <td>10.319695</td>\n",
              "      <td>-0.000000</td>\n",
              "      <td>-2.946207</td>\n",
              "      <td>0.000000</td>\n",
              "      <td>-0.504693</td>\n",
              "      <td>-3.887883</td>\n",
              "      <td>1.687501</td>\n",
              "      <td>-9.168003</td>\n",
              "    </tr>\n",
              "    <tr>\n",
              "      <th>alpha_1</th>\n",
              "      <td>6334.668117</td>\n",
              "      <td>19.008645</td>\n",
              "      <td>-0.000000</td>\n",
              "      <td>0.000000</td>\n",
              "      <td>-0.000000</td>\n",
              "      <td>0.000000</td>\n",
              "      <td>-0.000000</td>\n",
              "      <td>0.000000</td>\n",
              "      <td>-0.000000</td>\n",
              "      <td>0.000000</td>\n",
              "      <td>-0.000000</td>\n",
              "      <td>-0.706971</td>\n",
              "      <td>-1.583022</td>\n",
              "      <td>0.000000</td>\n",
              "      <td>-8.982980</td>\n",
              "    </tr>\n",
              "    <tr>\n",
              "      <th>alpha_10</th>\n",
              "      <td>11522.862703</td>\n",
              "      <td>22.187970</td>\n",
              "      <td>-0.000000</td>\n",
              "      <td>0.000000</td>\n",
              "      <td>-0.000000</td>\n",
              "      <td>0.000000</td>\n",
              "      <td>-0.000000</td>\n",
              "      <td>0.000000</td>\n",
              "      <td>-0.000000</td>\n",
              "      <td>0.000000</td>\n",
              "      <td>-0.000000</td>\n",
              "      <td>-0.000000</td>\n",
              "      <td>-0.000000</td>\n",
              "      <td>0.000000</td>\n",
              "      <td>-0.000000</td>\n",
              "    </tr>\n",
              "    <tr>\n",
              "      <th>alpha_1e+02</th>\n",
              "      <td>11522.862703</td>\n",
              "      <td>22.187970</td>\n",
              "      <td>-0.000000</td>\n",
              "      <td>0.000000</td>\n",
              "      <td>-0.000000</td>\n",
              "      <td>0.000000</td>\n",
              "      <td>-0.000000</td>\n",
              "      <td>0.000000</td>\n",
              "      <td>-0.000000</td>\n",
              "      <td>0.000000</td>\n",
              "      <td>-0.000000</td>\n",
              "      <td>-0.000000</td>\n",
              "      <td>-0.000000</td>\n",
              "      <td>0.000000</td>\n",
              "      <td>-0.000000</td>\n",
              "    </tr>\n",
              "  </tbody>\n",
              "</table>\n",
              "</div>"
            ],
            "text/plain": [
              "                       0          1         2   ...        12        13        14\n",
              "alpha_0       3168.989276  11.590168 -4.503689  ... -4.292154  2.042256 -8.653637\n",
              "alpha_0.001   3171.630031  11.644693 -4.454484  ... -4.287904  2.038632 -8.659800\n",
              "alpha_0.01    3197.263140  12.134892 -4.012433  ... -4.249763  2.006042 -8.715687\n",
              "alpha_0.1     3625.007981  16.753299 -0.000000  ... -3.887883  1.687501 -9.168003\n",
              "alpha_1       6334.668117  19.008645 -0.000000  ... -1.583022  0.000000 -8.982980\n",
              "alpha_10     11522.862703  22.187970 -0.000000  ... -0.000000  0.000000 -0.000000\n",
              "alpha_1e+02  11522.862703  22.187970 -0.000000  ... -0.000000  0.000000 -0.000000\n",
              "\n",
              "[7 rows x 15 columns]"
            ]
          },
          "metadata": {},
          "execution_count": 21
        }
      ]
    },
    {
      "cell_type": "code",
      "metadata": {
        "id": "-pqmd9pDDrnT",
        "colab": {
          "base_uri": "https://localhost:8080/",
          "height": 609
        },
        "outputId": "87ed6694-7b22-45ff-e508-4b11867e8092"
      },
      "source": [
        "#Plotting the alpha vs RMSE for Ridge and Lasso regressions\n",
        "plot_rmse(alpha_use, BHS_matrix_ridge, 'Ridge')\n",
        "plot_rmse(alpha_use, BHS_matrix_lasso, 'Lasso')"
      ],
      "execution_count": 22,
      "outputs": [
        {
          "output_type": "display_data",
          "data": {
            "image/png": "[encoded data removed]",
            "text/plain": [
              "<Figure size 432x288 with 1 Axes>"
            ]
          },
          "metadata": {
            "needs_background": "light"
          }
        },
        {
          "output_type": "display_data",
          "data": {
            "image/png": "[encoded data removed]",
            "text/plain": [
              "<Figure size 432x288 with 1 Axes>"
            ]
          },
          "metadata": {
            "needs_background": "light"
          }
        }
      ]
    },
    {
      "cell_type": "markdown",
      "metadata": {
        "id": "yl1c897pbKPo"
      },
      "source": [
        "### **Question 3**"
      ]
    },
    {
      "cell_type": "code",
      "metadata": {
        "id": "H4hpHDXpL6Oc"
      },
      "source": [
        "#From sklearn, return the best alpha and the mean square error\n",
        "#Using the same alphas as before.\n",
        "BHS_ridge_alpha = ridge_kfold(alpha_use[1:] * 2*len(BHS_splitted[1]),BHS_splitted[0], BHS_splitted[1])\n",
        "BHS_lasso_alpha = lasso_kfold(alpha_use[1:], BHS_splitted[0], BHS_splitted[1])"
      ],
      "execution_count": 31,
      "outputs": []
    },
    {
      "cell_type": "code",
      "metadata": {
        "id": "BPQvExEyNHKF",
        "colab": {
          "base_uri": "https://localhost:8080/"
        },
        "outputId": "e2f62cf9-c037-4332-8ec2-53a066a45c55"
      },
      "source": [
        "#Reporting the best alphas from the 400 dataset.\n",
        "print('Ridge best alpha for BH scaled data: '+str(BHS_ridge_alpha))\n",
        "print('Lasso best alpha for BH scaled data: '+str(BHS_lasso_alpha))"
      ],
      "execution_count": 32,
      "outputs": [
        {
          "output_type": "stream",
          "name": "stdout",
          "text": [
            "Ridge best alpha for BH scaled data: 1.0\n",
            "Lasso best alpha for BH scaled data: 0.001\n"
          ]
        }
      ]
    },
    {
      "cell_type": "code",
      "metadata": {
        "id": "FBIPl5Jcs5jz",
        "colab": {
          "base_uri": "https://localhost:8080/",
          "height": 347
        },
        "outputId": "8062ac99-28d2-4fc3-fd51-e16b73e29819"
      },
      "source": [
        "#Training the data once again using only the best alpha for ridge\n",
        "BHS_bestalpha_matrix_ridge= coeff_matrices([BHS_ridge_alpha], ridge_model, BHS_splitted[0], BHS_splitted[1], BHS_splitted[2], BHS_splitted[3])\n",
        "print('RMSE for best alpha in ridge on BH scaled data: '+str(BHS_bestalpha_matrix_ridge[0]))"
      ],
      "execution_count": 33,
      "outputs": [
        {
          "output_type": "display_data",
          "data": {
            "image/png": "[encoded data removed]",
            "text/plain": [
              "<Figure size 432x288 with 1 Axes>"
            ]
          },
          "metadata": {
            "needs_background": "light"
          }
        },
        {
          "output_type": "stream",
          "name": "stdout",
          "text": [
            "RMSE for best alpha in ridge on BH scaled data: alpha_1    8923.633859\n",
            "Name: 0, dtype: float64\n"
          ]
        }
      ]
    },
    {
      "cell_type": "code",
      "metadata": {
        "id": "hR6n9HbfsMVc",
        "colab": {
          "base_uri": "https://localhost:8080/",
          "height": 350
        },
        "outputId": "9ce017b6-79cb-4747-8032-e208c2c7a571"
      },
      "source": [
        "#Training the data once again using only the best alpha for lasso\n",
        "BHS_bestalpha_matrix_lasso= coeff_matrices([BHS_lasso_alpha], lasso_model, BHS_splitted[0], BHS_splitted[1], BHS_splitted[2], BHS_splitted[3])\n",
        "print('RMSE for best alpha in lasso on BH scaled data: '+str(BHS_bestalpha_matrix_lasso[0]))"
      ],
      "execution_count": 34,
      "outputs": [
        {
          "output_type": "display_data",
          "data": {
            "image/png": "[encoded data removed]",
            "text/plain": [
              "<Figure size 432x288 with 1 Axes>"
            ]
          },
          "metadata": {
            "needs_background": "light"
          }
        },
        {
          "output_type": "stream",
          "name": "stdout",
          "text": [
            "RMSE for best alpha in lasso on BH scaled data: alpha_0.001    3171.630031\n",
            "Name: 0, dtype: float64\n"
          ]
        }
      ]
    },
    {
      "cell_type": "markdown",
      "metadata": {
        "id": "PqJUEQmwuLBz"
      },
      "source": [
        "### **Question 4**"
      ]
    },
    {
      "cell_type": "code",
      "metadata": {
        "id": "IwQfW-e2uOgK"
      },
      "source": [
        "#Splitted 400 examples as training and 106 examples as testing (21%)\n",
        "#Used in both ridge and lasso regressions.\n",
        "BH_splitted = boston_split(BostonHouse, 0.21)"
      ],
      "execution_count": 35,
      "outputs": []
    },
    {
      "cell_type": "code",
      "metadata": {
        "id": "81a61fWxucN6"
      },
      "source": [
        "#Using the same alphas as before.\n",
        "BH_ridge_alpha = ridge_kfold(alpha_use[1:]*2*len(BH_splitted[1]),BH_splitted[0], BH_splitted[1])\n",
        "BH_lasso_alpha = lasso_kfold(alpha_use[1:], BH_splitted[0], BH_splitted[1])"
      ],
      "execution_count": 36,
      "outputs": []
    },
    {
      "cell_type": "code",
      "metadata": {
        "id": "1ppYxvVQvIM7",
        "colab": {
          "base_uri": "https://localhost:8080/"
        },
        "outputId": "0de8d662-c433-422b-c1a8-c0f4d274379c"
      },
      "source": [
        "#Reporting the best alphas from the 400 dataset on original BH data.\n",
        "print('Ridge best alpha for BH original data: '+str(BH_ridge_alpha))\n",
        "print('Lasso best alpha for BH original data: '+str(BH_lasso_alpha))"
      ],
      "execution_count": 37,
      "outputs": [
        {
          "output_type": "stream",
          "name": "stdout",
          "text": [
            "Ridge best alpha for BH original data: 0.01\n",
            "Lasso best alpha for BH original data: 0.001\n"
          ]
        }
      ]
    },
    {
      "cell_type": "code",
      "metadata": {
        "id": "UzY45K0evpPT",
        "colab": {
          "base_uri": "https://localhost:8080/",
          "height": 349
        },
        "outputId": "6747091b-e000-4bc6-c251-27269bb60a3d"
      },
      "source": [
        "#Training the data only the best alpha for ridge on BH original data\n",
        "BH_bestalpha_matrix_ridge= coeff_matrices([BH_ridge_alpha], ridge_model, BH_splitted[0], BH_splitted[1], BH_splitted[2], BH_splitted[3])\n",
        "print('RMSE for best alpha in ridge on BH original data: '+str(BH_bestalpha_matrix_ridge[0]))"
      ],
      "execution_count": 38,
      "outputs": [
        {
          "output_type": "display_data",
          "data": {
            "image/png": "[encoded data removed]",
            "text/plain": [
              "<Figure size 432x288 with 1 Axes>"
            ]
          },
          "metadata": {
            "needs_background": "light"
          }
        },
        {
          "output_type": "stream",
          "name": "stdout",
          "text": [
            "RMSE for best alpha in ridge on BH original data: alpha_0.01    2100.050906\n",
            "Name: 0, dtype: float64\n"
          ]
        }
      ]
    },
    {
      "cell_type": "code",
      "metadata": {
        "id": "iSbKGpR0v8AC",
        "colab": {
          "base_uri": "https://localhost:8080/",
          "height": 350
        },
        "outputId": "439fd7cc-2f05-44bf-82a6-7b6428dc9f22"
      },
      "source": [
        "#Training the data once again using only the best alpha for lasso on BH original data\n",
        "BH_bestalpha_matrix_lasso= coeff_matrices([BH_lasso_alpha], lasso_model, BH_splitted[0], BH_splitted[1], BH_splitted[2], BH_splitted[3])\n",
        "print('RMSE for best alpha in lasso on BH original data: '+str(BH_bestalpha_matrix_lasso[0]))"
      ],
      "execution_count": 39,
      "outputs": [
        {
          "output_type": "display_data",
          "data": {
            "image/png": "[encoded data removed]",
            "text/plain": [
              "<Figure size 432x288 with 1 Axes>"
            ]
          },
          "metadata": {
            "needs_background": "light"
          }
        },
        {
          "output_type": "stream",
          "name": "stdout",
          "text": [
            "RMSE for best alpha in lasso on BH original data: alpha_0.001    2029.058137\n",
            "Name: 0, dtype: float64\n"
          ]
        }
      ]
    },
    {
      "cell_type": "markdown",
      "metadata": {
        "id": "fYJCE-_5waB6"
      },
      "source": [
        "## **Problem 2**"
      ]
    },
    {
      "cell_type": "markdown",
      "metadata": {
        "id": "cywvdGXG3s0j"
      },
      "source": [
        "### **Question 1**"
      ]
    },
    {
      "cell_type": "code",
      "metadata": {
        "id": "_nCiXwyW9PD1"
      },
      "source": [
        "#Data split into traiing and testing sets\n",
        "e2006_data = e2006_split(E2006_train, E2006_test)"
      ],
      "execution_count": 40,
      "outputs": []
    },
    {
      "cell_type": "code",
      "metadata": {
        "id": "VDVrN3gS4-0a",
        "colab": {
          "base_uri": "https://localhost:8080/"
        },
        "outputId": "a116f2b9-3a8f-4b7e-944f-3910cb5dd440"
      },
      "source": [
        "print(e2006_data[0].shape,len(e2006_data[1]),e2006_data[2].shape,len(e2006_data[3]))"
      ],
      "execution_count": 41,
      "outputs": [
        {
          "output_type": "stream",
          "name": "stdout",
          "text": [
            "(3308, 150358) 3308 (16087, 150360) 16087\n"
          ]
        }
      ]
    },
    {
      "cell_type": "code",
      "metadata": {
        "id": "aHqaPxe2JRfS"
      },
      "source": [
        "e2006_data[0] = sp.sparse.hstack([e2006_data[0], sp.sparse.csr_matrix((3308,2))])"
      ],
      "execution_count": 42,
      "outputs": []
    },
    {
      "cell_type": "code",
      "metadata": {
        "colab": {
          "base_uri": "https://localhost:8080/"
        },
        "id": "_ajEZMLlJufA",
        "outputId": "916f663c-d069-450d-b7e2-96edf595c79a"
      },
      "source": [
        "print(e2006_data[0].shape,len(e2006_data[1]),e2006_data[2].shape,len(e2006_data[3]))"
      ],
      "execution_count": 43,
      "outputs": [
        {
          "output_type": "stream",
          "name": "stdout",
          "text": [
            "(3308, 150360) 3308 (16087, 150360) 16087\n"
          ]
        }
      ]
    },
    {
      "cell_type": "code",
      "metadata": {
        "id": "wCU_paLUxEhj"
      },
      "source": [
        "#Optimal Solutions\n",
        "e2006_ridge_opt_coef, e2006_ridge_opt_int = optim_ridge_e20(e2006_data)\n",
        "e2006_lasso_opt_coef, e2006_lasso_opt_int = optim_lasso_e20(e2006_data)"
      ],
      "execution_count": 44,
      "outputs": []
    },
    {
      "cell_type": "code",
      "metadata": {
        "id": "D4gAp14yxEhk",
        "colab": {
          "base_uri": "https://localhost:8080/"
        },
        "outputId": "4d4605a5-6740-4b24-9f1b-ae9d964840ee"
      },
      "source": [
        "#Visualize the optimum w vector and score for btoh lasso and ridge with alpha = 1\n",
        "print('ridge cost vector w:'+ str(e2006_ridge_opt_coef), 'ridge best intercept:' +str(e2006_ridge_opt_int))\n",
        "print()\n",
        "print('lasso cost vector w:'+str(e2006_lasso_opt_coef), 'lasso best intercept:'+str(e2006_lasso_opt_int))"
      ],
      "execution_count": 45,
      "outputs": [
        {
          "output_type": "stream",
          "name": "stdout",
          "text": [
            "ridge cost vector w:[ 7.99130684e-02  0.00000000e+00  0.00000000e+00 ... -6.97128470e-08\n",
            "  0.00000000e+00  0.00000000e+00] ridge best intercept:-3.5182555830852835\n",
            "\n",
            "lasso cost vector w:[ 0.  0.  0. ... -0.  0.  0.] lasso best intercept:-3.8200363770516166\n"
          ]
        }
      ]
    },
    {
      "cell_type": "markdown",
      "metadata": {
        "id": "OFuojUnS30UL"
      },
      "source": [
        "### **Question 2**"
      ]
    },
    {
      "cell_type": "code",
      "metadata": {
        "id": "NcGpEMYX38hS",
        "colab": {
          "base_uri": "https://localhost:8080/",
          "height": 1000
        },
        "outputId": "468b9f44-ef6b-46b7-95af-2270c0138a4d"
      },
      "source": [
        "#Creation of coefficient matrix for ridge regression for the E2006data\n",
        "e2006_matrix_ridge= coeff_matrices(alpha_use, ridge_model, e2006_data[0], e2006_data[1], e2006_data[2], e2006_data[3])\n",
        "e2006_matrix_ridge"
      ],
      "execution_count": 46,
      "outputs": [
        {
          "output_type": "display_data",
          "data": {
            "image/png": "[encoded data removed]",
            "text/plain": [
              "<Figure size 432x288 with 1 Axes>"
            ]
          },
          "metadata": {
            "needs_background": "light"
          }
        },
        {
          "output_type": "display_data",
          "data": {
            "image/png": "[encoded data removed]",
            "text/plain": [
              "<Figure size 432x288 with 1 Axes>"
            ]
          },
          "metadata": {
            "needs_background": "light"
          }
        },
        {
          "output_type": "display_data",
          "data": {
            "image/png": "[encoded data removed]",
            "text/plain": [
              "<Figure size 432x288 with 1 Axes>"
            ]
          },
          "metadata": {
            "needs_background": "light"
          }
        },
        {
          "output_type": "display_data",
          "data": {
            "image/png": "[encoded data removed]",
            "text/plain": [
              "<Figure size 432x288 with 1 Axes>"
            ]
          },
          "metadata": {
            "needs_background": "light"
          }
        },
        {
          "output_type": "display_data",
          "data": {
            "image/png": "[encoded data removed]",
            "text/plain": [
              "<Figure size 432x288 with 1 Axes>"
            ]
          },
          "metadata": {
            "needs_background": "light"
          }
        },
        {
          "output_type": "display_data",
          "data": {
            "image/png": "[encoded data removed]",
            "text/plain": [
              "<Figure size 432x288 with 1 Axes>"
            ]
          },
          "metadata": {
            "needs_background": "light"
          }
        },
        {
          "output_type": "display_data",
          "data": {
            "image/png": "[encoded data removed]",
            "text/plain": [
              "<Figure size 432x288 with 1 Axes>"
            ]
          },
          "metadata": {
            "needs_background": "light"
          }
        },
        {
          "output_type": "execute_result",
          "data": {
            "text/html": [
              "<div>\n",
              "<style scoped>\n",
              "    .dataframe tbody tr th:only-of-type {\n",
              "        vertical-align: middle;\n",
              "    }\n",
              "\n",
              "    .dataframe tbody tr th {\n",
              "        vertical-align: top;\n",
              "    }\n",
              "\n",
              "    .dataframe thead th {\n",
              "        text-align: right;\n",
              "    }\n",
              "</style>\n",
              "<table border=\"1\" class=\"dataframe\">\n",
              "  <thead>\n",
              "    <tr style=\"text-align: right;\">\n",
              "      <th></th>\n",
              "      <th>0</th>\n",
              "      <th>1</th>\n",
              "      <th>2</th>\n",
              "      <th>3</th>\n",
              "      <th>4</th>\n",
              "      <th>5</th>\n",
              "      <th>6</th>\n",
              "      <th>7</th>\n",
              "      <th>8</th>\n",
              "      <th>9</th>\n",
              "      <th>10</th>\n",
              "      <th>11</th>\n",
              "      <th>12</th>\n",
              "      <th>13</th>\n",
              "      <th>14</th>\n",
              "      <th>15</th>\n",
              "      <th>16</th>\n",
              "      <th>17</th>\n",
              "      <th>18</th>\n",
              "      <th>19</th>\n",
              "      <th>20</th>\n",
              "      <th>21</th>\n",
              "      <th>22</th>\n",
              "      <th>23</th>\n",
              "      <th>24</th>\n",
              "      <th>25</th>\n",
              "      <th>26</th>\n",
              "      <th>27</th>\n",
              "      <th>28</th>\n",
              "      <th>29</th>\n",
              "      <th>30</th>\n",
              "      <th>31</th>\n",
              "      <th>32</th>\n",
              "      <th>33</th>\n",
              "      <th>34</th>\n",
              "      <th>35</th>\n",
              "      <th>36</th>\n",
              "      <th>37</th>\n",
              "      <th>38</th>\n",
              "      <th>39</th>\n",
              "      <th>...</th>\n",
              "      <th>150322</th>\n",
              "      <th>150323</th>\n",
              "      <th>150324</th>\n",
              "      <th>150325</th>\n",
              "      <th>150326</th>\n",
              "      <th>150327</th>\n",
              "      <th>150328</th>\n",
              "      <th>150329</th>\n",
              "      <th>150330</th>\n",
              "      <th>150331</th>\n",
              "      <th>150332</th>\n",
              "      <th>150333</th>\n",
              "      <th>150334</th>\n",
              "      <th>150335</th>\n",
              "      <th>150336</th>\n",
              "      <th>150337</th>\n",
              "      <th>150338</th>\n",
              "      <th>150339</th>\n",
              "      <th>150340</th>\n",
              "      <th>150341</th>\n",
              "      <th>150342</th>\n",
              "      <th>150343</th>\n",
              "      <th>150344</th>\n",
              "      <th>150345</th>\n",
              "      <th>150346</th>\n",
              "      <th>150347</th>\n",
              "      <th>150348</th>\n",
              "      <th>150349</th>\n",
              "      <th>150350</th>\n",
              "      <th>150351</th>\n",
              "      <th>150352</th>\n",
              "      <th>150353</th>\n",
              "      <th>150354</th>\n",
              "      <th>150355</th>\n",
              "      <th>150356</th>\n",
              "      <th>150357</th>\n",
              "      <th>150358</th>\n",
              "      <th>150359</th>\n",
              "      <th>150360</th>\n",
              "      <th>150361</th>\n",
              "    </tr>\n",
              "  </thead>\n",
              "  <tbody>\n",
              "    <tr>\n",
              "      <th>alpha_0</th>\n",
              "      <td>7104.557879</td>\n",
              "      <td>-4.182466</td>\n",
              "      <td>-0.114345</td>\n",
              "      <td>0.0</td>\n",
              "      <td>0.0</td>\n",
              "      <td>2.215725e+00</td>\n",
              "      <td>-1.570847e-03</td>\n",
              "      <td>0.0</td>\n",
              "      <td>0.0</td>\n",
              "      <td>0.0</td>\n",
              "      <td>0.0</td>\n",
              "      <td>-1.285472e-02</td>\n",
              "      <td>0.0</td>\n",
              "      <td>2.183447e-02</td>\n",
              "      <td>1.293618e+00</td>\n",
              "      <td>5.532934e+00</td>\n",
              "      <td>-3.931102e+00</td>\n",
              "      <td>5.327339e-02</td>\n",
              "      <td>-3.547725e+00</td>\n",
              "      <td>4.582860e+00</td>\n",
              "      <td>-1.794054e+00</td>\n",
              "      <td>-2.479642e-02</td>\n",
              "      <td>-2.183507e+00</td>\n",
              "      <td>0.0</td>\n",
              "      <td>0.0</td>\n",
              "      <td>8.714717e+00</td>\n",
              "      <td>0.0</td>\n",
              "      <td>7.784917e-01</td>\n",
              "      <td>4.133653e+00</td>\n",
              "      <td>-4.901342e-01</td>\n",
              "      <td>0.0</td>\n",
              "      <td>-7.489583e+00</td>\n",
              "      <td>-1.242793e-01</td>\n",
              "      <td>7.595787e+00</td>\n",
              "      <td>8.889930e-01</td>\n",
              "      <td>2.373761e+00</td>\n",
              "      <td>1.203992e+01</td>\n",
              "      <td>1.607008e+01</td>\n",
              "      <td>1.018702e+01</td>\n",
              "      <td>1.890297e+00</td>\n",
              "      <td>...</td>\n",
              "      <td>0.0</td>\n",
              "      <td>0.0</td>\n",
              "      <td>0.0</td>\n",
              "      <td>0.0</td>\n",
              "      <td>0.0</td>\n",
              "      <td>-4.855714e-02</td>\n",
              "      <td>0.0</td>\n",
              "      <td>0.0</td>\n",
              "      <td>0.0</td>\n",
              "      <td>-5.229991e-02</td>\n",
              "      <td>-5.229991e-02</td>\n",
              "      <td>0.0</td>\n",
              "      <td>0.0</td>\n",
              "      <td>-5.229991e-02</td>\n",
              "      <td>-1.045998e-01</td>\n",
              "      <td>-5.229991e-02</td>\n",
              "      <td>0.0</td>\n",
              "      <td>0.0</td>\n",
              "      <td>0.0</td>\n",
              "      <td>0.0</td>\n",
              "      <td>0.0</td>\n",
              "      <td>-9.711429e-02</td>\n",
              "      <td>0.0</td>\n",
              "      <td>0.0</td>\n",
              "      <td>0.0</td>\n",
              "      <td>-4.855714e-02</td>\n",
              "      <td>0.0</td>\n",
              "      <td>0.0</td>\n",
              "      <td>0.0</td>\n",
              "      <td>0.0</td>\n",
              "      <td>0.0</td>\n",
              "      <td>0.0</td>\n",
              "      <td>-1.568997e-01</td>\n",
              "      <td>0.0</td>\n",
              "      <td>0.0</td>\n",
              "      <td>0.0</td>\n",
              "      <td>-5.229991e-02</td>\n",
              "      <td>-1.568997e-01</td>\n",
              "      <td>0.0</td>\n",
              "      <td>0.0</td>\n",
              "    </tr>\n",
              "    <tr>\n",
              "      <th>alpha_0.001</th>\n",
              "      <td>2233.659620</td>\n",
              "      <td>-0.651775</td>\n",
              "      <td>0.838980</td>\n",
              "      <td>0.0</td>\n",
              "      <td>0.0</td>\n",
              "      <td>-3.201070e-04</td>\n",
              "      <td>2.620133e-09</td>\n",
              "      <td>0.0</td>\n",
              "      <td>0.0</td>\n",
              "      <td>0.0</td>\n",
              "      <td>0.0</td>\n",
              "      <td>-9.541358e-07</td>\n",
              "      <td>0.0</td>\n",
              "      <td>7.651682e-07</td>\n",
              "      <td>-4.517334e-04</td>\n",
              "      <td>-3.745310e-04</td>\n",
              "      <td>-2.904389e-04</td>\n",
              "      <td>-8.105625e-07</td>\n",
              "      <td>-8.225293e-05</td>\n",
              "      <td>6.084757e-04</td>\n",
              "      <td>-4.714523e-04</td>\n",
              "      <td>1.038883e-06</td>\n",
              "      <td>-2.431410e-04</td>\n",
              "      <td>0.0</td>\n",
              "      <td>0.0</td>\n",
              "      <td>1.139777e-04</td>\n",
              "      <td>0.0</td>\n",
              "      <td>5.931035e-05</td>\n",
              "      <td>3.969280e-04</td>\n",
              "      <td>2.746295e-05</td>\n",
              "      <td>0.0</td>\n",
              "      <td>3.972720e-05</td>\n",
              "      <td>4.811388e-05</td>\n",
              "      <td>9.675213e-04</td>\n",
              "      <td>5.567050e-05</td>\n",
              "      <td>2.668670e-04</td>\n",
              "      <td>2.027769e-03</td>\n",
              "      <td>1.819276e-03</td>\n",
              "      <td>2.337070e-03</td>\n",
              "      <td>1.426669e-04</td>\n",
              "      <td>...</td>\n",
              "      <td>0.0</td>\n",
              "      <td>0.0</td>\n",
              "      <td>0.0</td>\n",
              "      <td>0.0</td>\n",
              "      <td>0.0</td>\n",
              "      <td>-1.319364e-05</td>\n",
              "      <td>0.0</td>\n",
              "      <td>0.0</td>\n",
              "      <td>0.0</td>\n",
              "      <td>-1.421060e-05</td>\n",
              "      <td>-1.421060e-05</td>\n",
              "      <td>0.0</td>\n",
              "      <td>0.0</td>\n",
              "      <td>-1.421060e-05</td>\n",
              "      <td>-2.842120e-05</td>\n",
              "      <td>-1.421060e-05</td>\n",
              "      <td>0.0</td>\n",
              "      <td>0.0</td>\n",
              "      <td>0.0</td>\n",
              "      <td>0.0</td>\n",
              "      <td>0.0</td>\n",
              "      <td>-2.638728e-05</td>\n",
              "      <td>0.0</td>\n",
              "      <td>0.0</td>\n",
              "      <td>0.0</td>\n",
              "      <td>-1.319364e-05</td>\n",
              "      <td>0.0</td>\n",
              "      <td>0.0</td>\n",
              "      <td>0.0</td>\n",
              "      <td>0.0</td>\n",
              "      <td>0.0</td>\n",
              "      <td>0.0</td>\n",
              "      <td>-4.263180e-05</td>\n",
              "      <td>0.0</td>\n",
              "      <td>0.0</td>\n",
              "      <td>0.0</td>\n",
              "      <td>-1.421060e-05</td>\n",
              "      <td>-4.263180e-05</td>\n",
              "      <td>0.0</td>\n",
              "      <td>0.0</td>\n",
              "    </tr>\n",
              "    <tr>\n",
              "      <th>alpha_0.01</th>\n",
              "      <td>2273.105903</td>\n",
              "      <td>-0.900532</td>\n",
              "      <td>0.773101</td>\n",
              "      <td>0.0</td>\n",
              "      <td>0.0</td>\n",
              "      <td>-4.035725e-05</td>\n",
              "      <td>-2.717889e-09</td>\n",
              "      <td>0.0</td>\n",
              "      <td>0.0</td>\n",
              "      <td>0.0</td>\n",
              "      <td>0.0</td>\n",
              "      <td>-1.356277e-07</td>\n",
              "      <td>0.0</td>\n",
              "      <td>9.191776e-08</td>\n",
              "      <td>-4.850544e-05</td>\n",
              "      <td>-3.949350e-05</td>\n",
              "      <td>-4.073424e-05</td>\n",
              "      <td>-6.706082e-08</td>\n",
              "      <td>-1.684886e-05</td>\n",
              "      <td>8.060999e-05</td>\n",
              "      <td>-6.133762e-05</td>\n",
              "      <td>1.707063e-07</td>\n",
              "      <td>-3.090919e-05</td>\n",
              "      <td>0.0</td>\n",
              "      <td>0.0</td>\n",
              "      <td>-9.322940e-06</td>\n",
              "      <td>0.0</td>\n",
              "      <td>6.086999e-06</td>\n",
              "      <td>7.206969e-05</td>\n",
              "      <td>3.086060e-06</td>\n",
              "      <td>0.0</td>\n",
              "      <td>-2.908214e-05</td>\n",
              "      <td>3.254691e-06</td>\n",
              "      <td>1.333198e-04</td>\n",
              "      <td>7.767522e-06</td>\n",
              "      <td>3.333736e-05</td>\n",
              "      <td>2.703166e-04</td>\n",
              "      <td>2.444547e-04</td>\n",
              "      <td>2.921723e-04</td>\n",
              "      <td>1.883362e-05</td>\n",
              "      <td>...</td>\n",
              "      <td>0.0</td>\n",
              "      <td>0.0</td>\n",
              "      <td>0.0</td>\n",
              "      <td>0.0</td>\n",
              "      <td>0.0</td>\n",
              "      <td>-1.396140e-06</td>\n",
              "      <td>0.0</td>\n",
              "      <td>0.0</td>\n",
              "      <td>0.0</td>\n",
              "      <td>-1.503753e-06</td>\n",
              "      <td>-1.503753e-06</td>\n",
              "      <td>0.0</td>\n",
              "      <td>0.0</td>\n",
              "      <td>-1.503753e-06</td>\n",
              "      <td>-3.007507e-06</td>\n",
              "      <td>-1.503753e-06</td>\n",
              "      <td>0.0</td>\n",
              "      <td>0.0</td>\n",
              "      <td>0.0</td>\n",
              "      <td>0.0</td>\n",
              "      <td>0.0</td>\n",
              "      <td>-2.792279e-06</td>\n",
              "      <td>0.0</td>\n",
              "      <td>0.0</td>\n",
              "      <td>0.0</td>\n",
              "      <td>-1.396140e-06</td>\n",
              "      <td>0.0</td>\n",
              "      <td>0.0</td>\n",
              "      <td>0.0</td>\n",
              "      <td>0.0</td>\n",
              "      <td>0.0</td>\n",
              "      <td>0.0</td>\n",
              "      <td>-4.511260e-06</td>\n",
              "      <td>0.0</td>\n",
              "      <td>0.0</td>\n",
              "      <td>0.0</td>\n",
              "      <td>-1.503753e-06</td>\n",
              "      <td>-4.511260e-06</td>\n",
              "      <td>0.0</td>\n",
              "      <td>0.0</td>\n",
              "    </tr>\n",
              "    <tr>\n",
              "      <th>alpha_0.1</th>\n",
              "      <td>3588.038390</td>\n",
              "      <td>-2.187696</td>\n",
              "      <td>0.432252</td>\n",
              "      <td>0.0</td>\n",
              "      <td>0.0</td>\n",
              "      <td>-8.208580e-06</td>\n",
              "      <td>-1.774236e-09</td>\n",
              "      <td>0.0</td>\n",
              "      <td>0.0</td>\n",
              "      <td>0.0</td>\n",
              "      <td>0.0</td>\n",
              "      <td>-3.367457e-08</td>\n",
              "      <td>0.0</td>\n",
              "      <td>1.755299e-08</td>\n",
              "      <td>-6.548718e-06</td>\n",
              "      <td>-4.959394e-06</td>\n",
              "      <td>-9.970320e-06</td>\n",
              "      <td>1.856027e-09</td>\n",
              "      <td>-6.081926e-06</td>\n",
              "      <td>1.825498e-05</td>\n",
              "      <td>-1.335308e-05</td>\n",
              "      <td>5.116144e-08</td>\n",
              "      <td>-6.524721e-06</td>\n",
              "      <td>0.0</td>\n",
              "      <td>0.0</td>\n",
              "      <td>-1.134300e-05</td>\n",
              "      <td>0.0</td>\n",
              "      <td>6.947259e-07</td>\n",
              "      <td>2.377817e-05</td>\n",
              "      <td>5.792286e-07</td>\n",
              "      <td>0.0</td>\n",
              "      <td>-1.965577e-05</td>\n",
              "      <td>-4.692944e-07</td>\n",
              "      <td>3.209713e-05</td>\n",
              "      <td>1.932378e-06</td>\n",
              "      <td>6.786727e-06</td>\n",
              "      <td>6.178895e-05</td>\n",
              "      <td>5.615811e-05</td>\n",
              "      <td>5.899392e-05</td>\n",
              "      <td>4.233189e-06</td>\n",
              "      <td>...</td>\n",
              "      <td>0.0</td>\n",
              "      <td>0.0</td>\n",
              "      <td>0.0</td>\n",
              "      <td>0.0</td>\n",
              "      <td>0.0</td>\n",
              "      <td>-1.770536e-07</td>\n",
              "      <td>0.0</td>\n",
              "      <td>0.0</td>\n",
              "      <td>0.0</td>\n",
              "      <td>-1.907008e-07</td>\n",
              "      <td>-1.907008e-07</td>\n",
              "      <td>0.0</td>\n",
              "      <td>0.0</td>\n",
              "      <td>-1.907008e-07</td>\n",
              "      <td>-3.814016e-07</td>\n",
              "      <td>-1.907008e-07</td>\n",
              "      <td>0.0</td>\n",
              "      <td>0.0</td>\n",
              "      <td>0.0</td>\n",
              "      <td>0.0</td>\n",
              "      <td>0.0</td>\n",
              "      <td>-3.541072e-07</td>\n",
              "      <td>0.0</td>\n",
              "      <td>0.0</td>\n",
              "      <td>0.0</td>\n",
              "      <td>-1.770536e-07</td>\n",
              "      <td>0.0</td>\n",
              "      <td>0.0</td>\n",
              "      <td>0.0</td>\n",
              "      <td>0.0</td>\n",
              "      <td>0.0</td>\n",
              "      <td>0.0</td>\n",
              "      <td>-5.721024e-07</td>\n",
              "      <td>0.0</td>\n",
              "      <td>0.0</td>\n",
              "      <td>0.0</td>\n",
              "      <td>-1.907008e-07</td>\n",
              "      <td>-5.721024e-07</td>\n",
              "      <td>0.0</td>\n",
              "      <td>0.0</td>\n",
              "    </tr>\n",
              "    <tr>\n",
              "      <th>alpha_1</th>\n",
              "      <td>6907.307776</td>\n",
              "      <td>-3.518256</td>\n",
              "      <td>0.079913</td>\n",
              "      <td>0.0</td>\n",
              "      <td>0.0</td>\n",
              "      <td>-1.252163e-06</td>\n",
              "      <td>-3.327214e-10</td>\n",
              "      <td>0.0</td>\n",
              "      <td>0.0</td>\n",
              "      <td>0.0</td>\n",
              "      <td>0.0</td>\n",
              "      <td>-5.446232e-09</td>\n",
              "      <td>0.0</td>\n",
              "      <td>2.619506e-09</td>\n",
              "      <td>-8.303804e-07</td>\n",
              "      <td>-6.003241e-07</td>\n",
              "      <td>-1.606541e-06</td>\n",
              "      <td>1.070647e-09</td>\n",
              "      <td>-1.062681e-06</td>\n",
              "      <td>2.879153e-06</td>\n",
              "      <td>-2.081498e-06</td>\n",
              "      <td>8.639833e-09</td>\n",
              "      <td>-1.007390e-06</td>\n",
              "      <td>0.0</td>\n",
              "      <td>0.0</td>\n",
              "      <td>-2.210388e-06</td>\n",
              "      <td>0.0</td>\n",
              "      <td>7.836188e-08</td>\n",
              "      <td>4.090651e-06</td>\n",
              "      <td>8.589414e-08</td>\n",
              "      <td>0.0</td>\n",
              "      <td>-3.696658e-06</td>\n",
              "      <td>-1.290808e-07</td>\n",
              "      <td>5.149294e-06</td>\n",
              "      <td>3.126845e-07</td>\n",
              "      <td>1.035573e-06</td>\n",
              "      <td>9.771429e-06</td>\n",
              "      <td>8.893648e-06</td>\n",
              "      <td>8.977101e-06</td>\n",
              "      <td>6.661981e-07</td>\n",
              "      <td>...</td>\n",
              "      <td>0.0</td>\n",
              "      <td>0.0</td>\n",
              "      <td>0.0</td>\n",
              "      <td>0.0</td>\n",
              "      <td>0.0</td>\n",
              "      <td>-2.157465e-08</td>\n",
              "      <td>0.0</td>\n",
              "      <td>0.0</td>\n",
              "      <td>0.0</td>\n",
              "      <td>-2.323762e-08</td>\n",
              "      <td>-2.323762e-08</td>\n",
              "      <td>0.0</td>\n",
              "      <td>0.0</td>\n",
              "      <td>-2.323762e-08</td>\n",
              "      <td>-4.647523e-08</td>\n",
              "      <td>-2.323762e-08</td>\n",
              "      <td>0.0</td>\n",
              "      <td>0.0</td>\n",
              "      <td>0.0</td>\n",
              "      <td>0.0</td>\n",
              "      <td>0.0</td>\n",
              "      <td>-4.314930e-08</td>\n",
              "      <td>0.0</td>\n",
              "      <td>0.0</td>\n",
              "      <td>0.0</td>\n",
              "      <td>-2.157465e-08</td>\n",
              "      <td>0.0</td>\n",
              "      <td>0.0</td>\n",
              "      <td>0.0</td>\n",
              "      <td>0.0</td>\n",
              "      <td>0.0</td>\n",
              "      <td>0.0</td>\n",
              "      <td>-6.971285e-08</td>\n",
              "      <td>0.0</td>\n",
              "      <td>0.0</td>\n",
              "      <td>0.0</td>\n",
              "      <td>-2.323762e-08</td>\n",
              "      <td>-6.971285e-08</td>\n",
              "      <td>0.0</td>\n",
              "      <td>0.0</td>\n",
              "    </tr>\n",
              "    <tr>\n",
              "      <th>alpha_10</th>\n",
              "      <td>7819.806278</td>\n",
              "      <td>-3.787059</td>\n",
              "      <td>0.008732</td>\n",
              "      <td>0.0</td>\n",
              "      <td>0.0</td>\n",
              "      <td>-1.339296e-07</td>\n",
              "      <td>-3.640950e-11</td>\n",
              "      <td>0.0</td>\n",
              "      <td>0.0</td>\n",
              "      <td>0.0</td>\n",
              "      <td>0.0</td>\n",
              "      <td>-5.866191e-10</td>\n",
              "      <td>0.0</td>\n",
              "      <td>2.794095e-10</td>\n",
              "      <td>-8.658369e-08</td>\n",
              "      <td>-6.214119e-08</td>\n",
              "      <td>-1.729675e-07</td>\n",
              "      <td>1.249446e-10</td>\n",
              "      <td>-1.154498e-07</td>\n",
              "      <td>3.092014e-07</td>\n",
              "      <td>-2.232245e-07</td>\n",
              "      <td>9.351696e-10</td>\n",
              "      <td>-1.079091e-07</td>\n",
              "      <td>0.0</td>\n",
              "      <td>0.0</td>\n",
              "      <td>-2.427782e-07</td>\n",
              "      <td>0.0</td>\n",
              "      <td>8.015768e-09</td>\n",
              "      <td>4.436681e-07</td>\n",
              "      <td>9.154494e-09</td>\n",
              "      <td>0.0</td>\n",
              "      <td>-4.046375e-07</td>\n",
              "      <td>-1.456773e-08</td>\n",
              "      <td>5.541132e-07</td>\n",
              "      <td>3.368154e-08</td>\n",
              "      <td>1.107675e-07</td>\n",
              "      <td>1.049720e-06</td>\n",
              "      <td>9.555844e-07</td>\n",
              "      <td>9.598866e-07</td>\n",
              "      <td>7.152651e-08</td>\n",
              "      <td>...</td>\n",
              "      <td>0.0</td>\n",
              "      <td>0.0</td>\n",
              "      <td>0.0</td>\n",
              "      <td>0.0</td>\n",
              "      <td>0.0</td>\n",
              "      <td>-2.235633e-09</td>\n",
              "      <td>0.0</td>\n",
              "      <td>0.0</td>\n",
              "      <td>0.0</td>\n",
              "      <td>-2.407954e-09</td>\n",
              "      <td>-2.407954e-09</td>\n",
              "      <td>0.0</td>\n",
              "      <td>0.0</td>\n",
              "      <td>-2.407954e-09</td>\n",
              "      <td>-4.815909e-09</td>\n",
              "      <td>-2.407954e-09</td>\n",
              "      <td>0.0</td>\n",
              "      <td>0.0</td>\n",
              "      <td>0.0</td>\n",
              "      <td>0.0</td>\n",
              "      <td>0.0</td>\n",
              "      <td>-4.471266e-09</td>\n",
              "      <td>0.0</td>\n",
              "      <td>0.0</td>\n",
              "      <td>0.0</td>\n",
              "      <td>-2.235633e-09</td>\n",
              "      <td>0.0</td>\n",
              "      <td>0.0</td>\n",
              "      <td>0.0</td>\n",
              "      <td>0.0</td>\n",
              "      <td>0.0</td>\n",
              "      <td>0.0</td>\n",
              "      <td>-7.223863e-09</td>\n",
              "      <td>0.0</td>\n",
              "      <td>0.0</td>\n",
              "      <td>0.0</td>\n",
              "      <td>-2.407954e-09</td>\n",
              "      <td>-7.223863e-09</td>\n",
              "      <td>0.0</td>\n",
              "      <td>0.0</td>\n",
              "    </tr>\n",
              "    <tr>\n",
              "      <th>alpha_1e+02</th>\n",
              "      <td>7925.426322</td>\n",
              "      <td>-3.816706</td>\n",
              "      <td>0.000882</td>\n",
              "      <td>0.0</td>\n",
              "      <td>0.0</td>\n",
              "      <td>-1.349259e-08</td>\n",
              "      <td>-3.677458e-12</td>\n",
              "      <td>0.0</td>\n",
              "      <td>0.0</td>\n",
              "      <td>0.0</td>\n",
              "      <td>0.0</td>\n",
              "      <td>-5.914526e-11</td>\n",
              "      <td>0.0</td>\n",
              "      <td>2.813998e-11</td>\n",
              "      <td>-8.697182e-09</td>\n",
              "      <td>-6.236630e-09</td>\n",
              "      <td>-1.743842e-08</td>\n",
              "      <td>1.270696e-11</td>\n",
              "      <td>-1.165134e-08</td>\n",
              "      <td>3.116450e-08</td>\n",
              "      <td>-2.249527e-08</td>\n",
              "      <td>9.433946e-11</td>\n",
              "      <td>-1.087302e-08</td>\n",
              "      <td>0.0</td>\n",
              "      <td>0.0</td>\n",
              "      <td>-2.453130e-08</td>\n",
              "      <td>0.0</td>\n",
              "      <td>8.033472e-10</td>\n",
              "      <td>4.476721e-08</td>\n",
              "      <td>9.218853e-10</td>\n",
              "      <td>0.0</td>\n",
              "      <td>-4.087077e-08</td>\n",
              "      <td>-1.476338e-09</td>\n",
              "      <td>5.586194e-08</td>\n",
              "      <td>3.395929e-09</td>\n",
              "      <td>1.115919e-08</td>\n",
              "      <td>1.058054e-07</td>\n",
              "      <td>9.631894e-08</td>\n",
              "      <td>9.669936e-08</td>\n",
              "      <td>7.208963e-09</td>\n",
              "      <td>...</td>\n",
              "      <td>0.0</td>\n",
              "      <td>0.0</td>\n",
              "      <td>0.0</td>\n",
              "      <td>0.0</td>\n",
              "      <td>0.0</td>\n",
              "      <td>-2.244014e-10</td>\n",
              "      <td>0.0</td>\n",
              "      <td>0.0</td>\n",
              "      <td>0.0</td>\n",
              "      <td>-2.416981e-10</td>\n",
              "      <td>-2.416981e-10</td>\n",
              "      <td>0.0</td>\n",
              "      <td>0.0</td>\n",
              "      <td>-2.416981e-10</td>\n",
              "      <td>-4.833963e-10</td>\n",
              "      <td>-2.416981e-10</td>\n",
              "      <td>0.0</td>\n",
              "      <td>0.0</td>\n",
              "      <td>0.0</td>\n",
              "      <td>0.0</td>\n",
              "      <td>0.0</td>\n",
              "      <td>-4.488027e-10</td>\n",
              "      <td>0.0</td>\n",
              "      <td>0.0</td>\n",
              "      <td>0.0</td>\n",
              "      <td>-2.244014e-10</td>\n",
              "      <td>0.0</td>\n",
              "      <td>0.0</td>\n",
              "      <td>0.0</td>\n",
              "      <td>0.0</td>\n",
              "      <td>0.0</td>\n",
              "      <td>0.0</td>\n",
              "      <td>-7.250944e-10</td>\n",
              "      <td>0.0</td>\n",
              "      <td>0.0</td>\n",
              "      <td>0.0</td>\n",
              "      <td>-2.416981e-10</td>\n",
              "      <td>-7.250944e-10</td>\n",
              "      <td>0.0</td>\n",
              "      <td>0.0</td>\n",
              "    </tr>\n",
              "  </tbody>\n",
              "</table>\n",
              "<p>7 rows × 150362 columns</p>\n",
              "</div>"
            ],
            "text/plain": [
              "                  0         1         2       ...        150359  150360  150361\n",
              "alpha_0      7104.557879 -4.182466 -0.114345  ... -1.568997e-01     0.0     0.0\n",
              "alpha_0.001  2233.659620 -0.651775  0.838980  ... -4.263180e-05     0.0     0.0\n",
              "alpha_0.01   2273.105903 -0.900532  0.773101  ... -4.511260e-06     0.0     0.0\n",
              "alpha_0.1    3588.038390 -2.187696  0.432252  ... -5.721024e-07     0.0     0.0\n",
              "alpha_1      6907.307776 -3.518256  0.079913  ... -6.971285e-08     0.0     0.0\n",
              "alpha_10     7819.806278 -3.787059  0.008732  ... -7.223863e-09     0.0     0.0\n",
              "alpha_1e+02  7925.426322 -3.816706  0.000882  ... -7.250944e-10     0.0     0.0\n",
              "\n",
              "[7 rows x 150362 columns]"
            ]
          },
          "metadata": {},
          "execution_count": 46
        }
      ]
    },
    {
      "cell_type": "code",
      "metadata": {
        "id": "ygJAUnRd38hS",
        "colab": {
          "base_uri": "https://localhost:8080/",
          "height": 1000
        },
        "outputId": "4cffd374-201c-40a0-c303-e3a1565b08d7"
      },
      "source": [
        "#Creation of coefficient matrix for lasso regression. First and second column represent the RMSE and\n",
        "#the intercept\n",
        "e2006_matrix_lasso= coeff_matrices(alpha_use, lasso_model, e2006_data[0], e2006_data[1], e2006_data[2], e2006_data[3])\n",
        "e2006_matrix_lasso"
      ],
      "execution_count": 47,
      "outputs": [
        {
          "output_type": "stream",
          "name": "stderr",
          "text": [
            "/usr/local/lib/python3.7/dist-packages/ipykernel_launcher.py:5: UserWarning: With alpha=0, this algorithm does not converge well. You are advised to use the LinearRegression estimator\n",
            "  \"\"\"\n"
          ]
        },
        {
          "output_type": "display_data",
          "data": {
            "image/png": "[encoded data removed]",
            "text/plain": [
              "<Figure size 432x288 with 1 Axes>"
            ]
          },
          "metadata": {
            "needs_background": "light"
          }
        },
        {
          "output_type": "display_data",
          "data": {
            "image/png": "[encoded data removed]",
            "text/plain": [
              "<Figure size 432x288 with 1 Axes>"
            ]
          },
          "metadata": {
            "needs_background": "light"
          }
        },
        {
          "output_type": "display_data",
          "data": {
            "image/png": "[encoded data removed]",
            "text/plain": [
              "<Figure size 432x288 with 1 Axes>"
            ]
          },
          "metadata": {
            "needs_background": "light"
          }
        },
        {
          "output_type": "display_data",
          "data": {
            "image/png": "[encoded data removed]",
            "text/plain": [
              "<Figure size 432x288 with 1 Axes>"
            ]
          },
          "metadata": {
            "needs_background": "light"
          }
        },
        {
          "output_type": "display_data",
          "data": {
            "image/png": "[encoded data removed]",
            "text/plain": [
              "<Figure size 432x288 with 1 Axes>"
            ]
          },
          "metadata": {
            "needs_background": "light"
          }
        },
        {
          "output_type": "display_data",
          "data": {
            "image/png": "[encoded data removed]",
            "text/plain": [
              "<Figure size 432x288 with 1 Axes>"
            ]
          },
          "metadata": {
            "needs_background": "light"
          }
        },
        {
          "output_type": "display_data",
          "data": {
            "image/png": "[encoded data removed]",
            "text/plain": [
              "<Figure size 432x288 with 1 Axes>"
            ]
          },
          "metadata": {
            "needs_background": "light"
          }
        },
        {
          "output_type": "execute_result",
          "data": {
            "text/html": [
              "<div>\n",
              "<style scoped>\n",
              "    .dataframe tbody tr th:only-of-type {\n",
              "        vertical-align: middle;\n",
              "    }\n",
              "\n",
              "    .dataframe tbody tr th {\n",
              "        vertical-align: top;\n",
              "    }\n",
              "\n",
              "    .dataframe thead th {\n",
              "        text-align: right;\n",
              "    }\n",
              "</style>\n",
              "<table border=\"1\" class=\"dataframe\">\n",
              "  <thead>\n",
              "    <tr style=\"text-align: right;\">\n",
              "      <th></th>\n",
              "      <th>0</th>\n",
              "      <th>1</th>\n",
              "      <th>2</th>\n",
              "      <th>3</th>\n",
              "      <th>4</th>\n",
              "      <th>5</th>\n",
              "      <th>6</th>\n",
              "      <th>7</th>\n",
              "      <th>8</th>\n",
              "      <th>9</th>\n",
              "      <th>10</th>\n",
              "      <th>11</th>\n",
              "      <th>12</th>\n",
              "      <th>13</th>\n",
              "      <th>14</th>\n",
              "      <th>15</th>\n",
              "      <th>16</th>\n",
              "      <th>17</th>\n",
              "      <th>18</th>\n",
              "      <th>19</th>\n",
              "      <th>20</th>\n",
              "      <th>21</th>\n",
              "      <th>22</th>\n",
              "      <th>23</th>\n",
              "      <th>24</th>\n",
              "      <th>25</th>\n",
              "      <th>26</th>\n",
              "      <th>27</th>\n",
              "      <th>28</th>\n",
              "      <th>29</th>\n",
              "      <th>30</th>\n",
              "      <th>31</th>\n",
              "      <th>32</th>\n",
              "      <th>33</th>\n",
              "      <th>34</th>\n",
              "      <th>35</th>\n",
              "      <th>36</th>\n",
              "      <th>37</th>\n",
              "      <th>38</th>\n",
              "      <th>39</th>\n",
              "      <th>...</th>\n",
              "      <th>150322</th>\n",
              "      <th>150323</th>\n",
              "      <th>150324</th>\n",
              "      <th>150325</th>\n",
              "      <th>150326</th>\n",
              "      <th>150327</th>\n",
              "      <th>150328</th>\n",
              "      <th>150329</th>\n",
              "      <th>150330</th>\n",
              "      <th>150331</th>\n",
              "      <th>150332</th>\n",
              "      <th>150333</th>\n",
              "      <th>150334</th>\n",
              "      <th>150335</th>\n",
              "      <th>150336</th>\n",
              "      <th>150337</th>\n",
              "      <th>150338</th>\n",
              "      <th>150339</th>\n",
              "      <th>150340</th>\n",
              "      <th>150341</th>\n",
              "      <th>150342</th>\n",
              "      <th>150343</th>\n",
              "      <th>150344</th>\n",
              "      <th>150345</th>\n",
              "      <th>150346</th>\n",
              "      <th>150347</th>\n",
              "      <th>150348</th>\n",
              "      <th>150349</th>\n",
              "      <th>150350</th>\n",
              "      <th>150351</th>\n",
              "      <th>150352</th>\n",
              "      <th>150353</th>\n",
              "      <th>150354</th>\n",
              "      <th>150355</th>\n",
              "      <th>150356</th>\n",
              "      <th>150357</th>\n",
              "      <th>150358</th>\n",
              "      <th>150359</th>\n",
              "      <th>150360</th>\n",
              "      <th>150361</th>\n",
              "    </tr>\n",
              "  </thead>\n",
              "  <tbody>\n",
              "    <tr>\n",
              "      <th>alpha_0</th>\n",
              "      <td>35644.433193</td>\n",
              "      <td>-0.555578</td>\n",
              "      <td>0.847368</td>\n",
              "      <td>0.0</td>\n",
              "      <td>0.0</td>\n",
              "      <td>-28.567787</td>\n",
              "      <td>48712.534736</td>\n",
              "      <td>0.0</td>\n",
              "      <td>0.0</td>\n",
              "      <td>0.0</td>\n",
              "      <td>0.0</td>\n",
              "      <td>-6037.956094</td>\n",
              "      <td>0.0</td>\n",
              "      <td>18779.624191</td>\n",
              "      <td>-76.123299</td>\n",
              "      <td>-31.45981</td>\n",
              "      <td>-110.166004</td>\n",
              "      <td>-2944.78173</td>\n",
              "      <td>-223.212381</td>\n",
              "      <td>213.912913</td>\n",
              "      <td>-205.421989</td>\n",
              "      <td>12232.332251</td>\n",
              "      <td>-28.026964</td>\n",
              "      <td>0.0</td>\n",
              "      <td>0.0</td>\n",
              "      <td>5.133832</td>\n",
              "      <td>0.0</td>\n",
              "      <td>599.746303</td>\n",
              "      <td>9.700268</td>\n",
              "      <td>-8.936238</td>\n",
              "      <td>0.0</td>\n",
              "      <td>14.063483</td>\n",
              "      <td>327.596571</td>\n",
              "      <td>31.784469</td>\n",
              "      <td>-140.471462</td>\n",
              "      <td>461.540348</td>\n",
              "      <td>14.867905</td>\n",
              "      <td>-2.87732</td>\n",
              "      <td>32.86668</td>\n",
              "      <td>362.549593</td>\n",
              "      <td>...</td>\n",
              "      <td>0.0</td>\n",
              "      <td>0.0</td>\n",
              "      <td>0.0</td>\n",
              "      <td>0.0</td>\n",
              "      <td>0.0</td>\n",
              "      <td>1.342432e-16</td>\n",
              "      <td>0.0</td>\n",
              "      <td>0.0</td>\n",
              "      <td>0.0</td>\n",
              "      <td>9.940271e-20</td>\n",
              "      <td>8.410705e-23</td>\n",
              "      <td>0.0</td>\n",
              "      <td>0.0</td>\n",
              "      <td>5.357868e-26</td>\n",
              "      <td>6.378415e-28</td>\n",
              "      <td>0.0</td>\n",
              "      <td>0.0</td>\n",
              "      <td>0.0</td>\n",
              "      <td>0.0</td>\n",
              "      <td>0.0</td>\n",
              "      <td>0.0</td>\n",
              "      <td>-1.479920e-27</td>\n",
              "      <td>0.0</td>\n",
              "      <td>0.0</td>\n",
              "      <td>0.0</td>\n",
              "      <td>0.0</td>\n",
              "      <td>0.0</td>\n",
              "      <td>0.0</td>\n",
              "      <td>0.0</td>\n",
              "      <td>0.0</td>\n",
              "      <td>0.0</td>\n",
              "      <td>0.0</td>\n",
              "      <td>1.417425e-27</td>\n",
              "      <td>0.0</td>\n",
              "      <td>0.0</td>\n",
              "      <td>0.0</td>\n",
              "      <td>-5.102732e-27</td>\n",
              "      <td>1.984396e-27</td>\n",
              "      <td>0.0</td>\n",
              "      <td>0.0</td>\n",
              "    </tr>\n",
              "    <tr>\n",
              "      <th>alpha_0.001</th>\n",
              "      <td>2233.941557</td>\n",
              "      <td>-0.638057</td>\n",
              "      <td>0.842605</td>\n",
              "      <td>0.0</td>\n",
              "      <td>0.0</td>\n",
              "      <td>-0.000000</td>\n",
              "      <td>0.000000</td>\n",
              "      <td>0.0</td>\n",
              "      <td>0.0</td>\n",
              "      <td>0.0</td>\n",
              "      <td>0.0</td>\n",
              "      <td>-0.000000</td>\n",
              "      <td>0.0</td>\n",
              "      <td>0.000000</td>\n",
              "      <td>-0.000000</td>\n",
              "      <td>-0.00000</td>\n",
              "      <td>-0.000000</td>\n",
              "      <td>-0.00000</td>\n",
              "      <td>-0.000000</td>\n",
              "      <td>0.000000</td>\n",
              "      <td>-0.000000</td>\n",
              "      <td>0.000000</td>\n",
              "      <td>-0.000000</td>\n",
              "      <td>0.0</td>\n",
              "      <td>0.0</td>\n",
              "      <td>0.000000</td>\n",
              "      <td>0.0</td>\n",
              "      <td>0.000000</td>\n",
              "      <td>0.000000</td>\n",
              "      <td>0.000000</td>\n",
              "      <td>0.0</td>\n",
              "      <td>0.000000</td>\n",
              "      <td>0.000000</td>\n",
              "      <td>0.000000</td>\n",
              "      <td>0.000000</td>\n",
              "      <td>0.000000</td>\n",
              "      <td>0.000000</td>\n",
              "      <td>0.00000</td>\n",
              "      <td>0.00000</td>\n",
              "      <td>0.000000</td>\n",
              "      <td>...</td>\n",
              "      <td>0.0</td>\n",
              "      <td>0.0</td>\n",
              "      <td>0.0</td>\n",
              "      <td>0.0</td>\n",
              "      <td>0.0</td>\n",
              "      <td>-0.000000e+00</td>\n",
              "      <td>0.0</td>\n",
              "      <td>0.0</td>\n",
              "      <td>0.0</td>\n",
              "      <td>-0.000000e+00</td>\n",
              "      <td>-0.000000e+00</td>\n",
              "      <td>0.0</td>\n",
              "      <td>0.0</td>\n",
              "      <td>-0.000000e+00</td>\n",
              "      <td>-0.000000e+00</td>\n",
              "      <td>-0.0</td>\n",
              "      <td>0.0</td>\n",
              "      <td>0.0</td>\n",
              "      <td>0.0</td>\n",
              "      <td>0.0</td>\n",
              "      <td>0.0</td>\n",
              "      <td>-0.000000e+00</td>\n",
              "      <td>0.0</td>\n",
              "      <td>0.0</td>\n",
              "      <td>0.0</td>\n",
              "      <td>-0.0</td>\n",
              "      <td>0.0</td>\n",
              "      <td>0.0</td>\n",
              "      <td>0.0</td>\n",
              "      <td>0.0</td>\n",
              "      <td>0.0</td>\n",
              "      <td>0.0</td>\n",
              "      <td>-0.000000e+00</td>\n",
              "      <td>0.0</td>\n",
              "      <td>0.0</td>\n",
              "      <td>0.0</td>\n",
              "      <td>-0.000000e+00</td>\n",
              "      <td>-0.000000e+00</td>\n",
              "      <td>0.0</td>\n",
              "      <td>0.0</td>\n",
              "    </tr>\n",
              "    <tr>\n",
              "      <th>alpha_0.01</th>\n",
              "      <td>2249.231231</td>\n",
              "      <td>-0.801265</td>\n",
              "      <td>0.799386</td>\n",
              "      <td>0.0</td>\n",
              "      <td>0.0</td>\n",
              "      <td>-0.000000</td>\n",
              "      <td>-0.000000</td>\n",
              "      <td>0.0</td>\n",
              "      <td>0.0</td>\n",
              "      <td>0.0</td>\n",
              "      <td>0.0</td>\n",
              "      <td>-0.000000</td>\n",
              "      <td>0.0</td>\n",
              "      <td>0.000000</td>\n",
              "      <td>-0.000000</td>\n",
              "      <td>-0.00000</td>\n",
              "      <td>-0.000000</td>\n",
              "      <td>-0.00000</td>\n",
              "      <td>-0.000000</td>\n",
              "      <td>0.000000</td>\n",
              "      <td>-0.000000</td>\n",
              "      <td>0.000000</td>\n",
              "      <td>-0.000000</td>\n",
              "      <td>0.0</td>\n",
              "      <td>0.0</td>\n",
              "      <td>-0.000000</td>\n",
              "      <td>0.0</td>\n",
              "      <td>0.000000</td>\n",
              "      <td>0.000000</td>\n",
              "      <td>0.000000</td>\n",
              "      <td>0.0</td>\n",
              "      <td>-0.000000</td>\n",
              "      <td>0.000000</td>\n",
              "      <td>0.000000</td>\n",
              "      <td>0.000000</td>\n",
              "      <td>0.000000</td>\n",
              "      <td>0.000000</td>\n",
              "      <td>0.00000</td>\n",
              "      <td>0.00000</td>\n",
              "      <td>0.000000</td>\n",
              "      <td>...</td>\n",
              "      <td>0.0</td>\n",
              "      <td>0.0</td>\n",
              "      <td>0.0</td>\n",
              "      <td>0.0</td>\n",
              "      <td>0.0</td>\n",
              "      <td>-0.000000e+00</td>\n",
              "      <td>0.0</td>\n",
              "      <td>0.0</td>\n",
              "      <td>0.0</td>\n",
              "      <td>-0.000000e+00</td>\n",
              "      <td>-0.000000e+00</td>\n",
              "      <td>0.0</td>\n",
              "      <td>0.0</td>\n",
              "      <td>-0.000000e+00</td>\n",
              "      <td>-0.000000e+00</td>\n",
              "      <td>-0.0</td>\n",
              "      <td>0.0</td>\n",
              "      <td>0.0</td>\n",
              "      <td>0.0</td>\n",
              "      <td>0.0</td>\n",
              "      <td>0.0</td>\n",
              "      <td>-0.000000e+00</td>\n",
              "      <td>0.0</td>\n",
              "      <td>0.0</td>\n",
              "      <td>0.0</td>\n",
              "      <td>-0.0</td>\n",
              "      <td>0.0</td>\n",
              "      <td>0.0</td>\n",
              "      <td>0.0</td>\n",
              "      <td>0.0</td>\n",
              "      <td>0.0</td>\n",
              "      <td>0.0</td>\n",
              "      <td>-0.000000e+00</td>\n",
              "      <td>0.0</td>\n",
              "      <td>0.0</td>\n",
              "      <td>0.0</td>\n",
              "      <td>-0.000000e+00</td>\n",
              "      <td>-0.000000e+00</td>\n",
              "      <td>0.0</td>\n",
              "      <td>0.0</td>\n",
              "    </tr>\n",
              "    <tr>\n",
              "      <th>alpha_0.1</th>\n",
              "      <td>4050.931660</td>\n",
              "      <td>-2.433345</td>\n",
              "      <td>0.367203</td>\n",
              "      <td>0.0</td>\n",
              "      <td>0.0</td>\n",
              "      <td>-0.000000</td>\n",
              "      <td>-0.000000</td>\n",
              "      <td>0.0</td>\n",
              "      <td>0.0</td>\n",
              "      <td>0.0</td>\n",
              "      <td>0.0</td>\n",
              "      <td>-0.000000</td>\n",
              "      <td>0.0</td>\n",
              "      <td>0.000000</td>\n",
              "      <td>-0.000000</td>\n",
              "      <td>-0.00000</td>\n",
              "      <td>-0.000000</td>\n",
              "      <td>0.00000</td>\n",
              "      <td>-0.000000</td>\n",
              "      <td>0.000000</td>\n",
              "      <td>-0.000000</td>\n",
              "      <td>0.000000</td>\n",
              "      <td>-0.000000</td>\n",
              "      <td>0.0</td>\n",
              "      <td>0.0</td>\n",
              "      <td>-0.000000</td>\n",
              "      <td>0.0</td>\n",
              "      <td>0.000000</td>\n",
              "      <td>0.000000</td>\n",
              "      <td>0.000000</td>\n",
              "      <td>0.0</td>\n",
              "      <td>-0.000000</td>\n",
              "      <td>-0.000000</td>\n",
              "      <td>0.000000</td>\n",
              "      <td>0.000000</td>\n",
              "      <td>0.000000</td>\n",
              "      <td>0.000000</td>\n",
              "      <td>0.00000</td>\n",
              "      <td>0.00000</td>\n",
              "      <td>0.000000</td>\n",
              "      <td>...</td>\n",
              "      <td>0.0</td>\n",
              "      <td>0.0</td>\n",
              "      <td>0.0</td>\n",
              "      <td>0.0</td>\n",
              "      <td>0.0</td>\n",
              "      <td>-0.000000e+00</td>\n",
              "      <td>0.0</td>\n",
              "      <td>0.0</td>\n",
              "      <td>0.0</td>\n",
              "      <td>-0.000000e+00</td>\n",
              "      <td>-0.000000e+00</td>\n",
              "      <td>0.0</td>\n",
              "      <td>0.0</td>\n",
              "      <td>-0.000000e+00</td>\n",
              "      <td>-0.000000e+00</td>\n",
              "      <td>-0.0</td>\n",
              "      <td>0.0</td>\n",
              "      <td>0.0</td>\n",
              "      <td>0.0</td>\n",
              "      <td>0.0</td>\n",
              "      <td>0.0</td>\n",
              "      <td>-0.000000e+00</td>\n",
              "      <td>0.0</td>\n",
              "      <td>0.0</td>\n",
              "      <td>0.0</td>\n",
              "      <td>-0.0</td>\n",
              "      <td>0.0</td>\n",
              "      <td>0.0</td>\n",
              "      <td>0.0</td>\n",
              "      <td>0.0</td>\n",
              "      <td>0.0</td>\n",
              "      <td>0.0</td>\n",
              "      <td>-0.000000e+00</td>\n",
              "      <td>0.0</td>\n",
              "      <td>0.0</td>\n",
              "      <td>0.0</td>\n",
              "      <td>-0.000000e+00</td>\n",
              "      <td>-0.000000e+00</td>\n",
              "      <td>0.0</td>\n",
              "      <td>0.0</td>\n",
              "    </tr>\n",
              "    <tr>\n",
              "      <th>alpha_1</th>\n",
              "      <td>7937.352508</td>\n",
              "      <td>-3.820036</td>\n",
              "      <td>0.000000</td>\n",
              "      <td>0.0</td>\n",
              "      <td>0.0</td>\n",
              "      <td>-0.000000</td>\n",
              "      <td>-0.000000</td>\n",
              "      <td>0.0</td>\n",
              "      <td>0.0</td>\n",
              "      <td>0.0</td>\n",
              "      <td>0.0</td>\n",
              "      <td>-0.000000</td>\n",
              "      <td>0.0</td>\n",
              "      <td>0.000000</td>\n",
              "      <td>-0.000000</td>\n",
              "      <td>-0.00000</td>\n",
              "      <td>-0.000000</td>\n",
              "      <td>0.00000</td>\n",
              "      <td>-0.000000</td>\n",
              "      <td>0.000000</td>\n",
              "      <td>-0.000000</td>\n",
              "      <td>0.000000</td>\n",
              "      <td>-0.000000</td>\n",
              "      <td>0.0</td>\n",
              "      <td>0.0</td>\n",
              "      <td>-0.000000</td>\n",
              "      <td>0.0</td>\n",
              "      <td>0.000000</td>\n",
              "      <td>0.000000</td>\n",
              "      <td>0.000000</td>\n",
              "      <td>0.0</td>\n",
              "      <td>-0.000000</td>\n",
              "      <td>-0.000000</td>\n",
              "      <td>0.000000</td>\n",
              "      <td>0.000000</td>\n",
              "      <td>0.000000</td>\n",
              "      <td>0.000000</td>\n",
              "      <td>0.00000</td>\n",
              "      <td>0.00000</td>\n",
              "      <td>0.000000</td>\n",
              "      <td>...</td>\n",
              "      <td>0.0</td>\n",
              "      <td>0.0</td>\n",
              "      <td>0.0</td>\n",
              "      <td>0.0</td>\n",
              "      <td>0.0</td>\n",
              "      <td>-0.000000e+00</td>\n",
              "      <td>0.0</td>\n",
              "      <td>0.0</td>\n",
              "      <td>0.0</td>\n",
              "      <td>-0.000000e+00</td>\n",
              "      <td>-0.000000e+00</td>\n",
              "      <td>0.0</td>\n",
              "      <td>0.0</td>\n",
              "      <td>-0.000000e+00</td>\n",
              "      <td>-0.000000e+00</td>\n",
              "      <td>-0.0</td>\n",
              "      <td>0.0</td>\n",
              "      <td>0.0</td>\n",
              "      <td>0.0</td>\n",
              "      <td>0.0</td>\n",
              "      <td>0.0</td>\n",
              "      <td>-0.000000e+00</td>\n",
              "      <td>0.0</td>\n",
              "      <td>0.0</td>\n",
              "      <td>0.0</td>\n",
              "      <td>-0.0</td>\n",
              "      <td>0.0</td>\n",
              "      <td>0.0</td>\n",
              "      <td>0.0</td>\n",
              "      <td>0.0</td>\n",
              "      <td>0.0</td>\n",
              "      <td>0.0</td>\n",
              "      <td>-0.000000e+00</td>\n",
              "      <td>0.0</td>\n",
              "      <td>0.0</td>\n",
              "      <td>0.0</td>\n",
              "      <td>-0.000000e+00</td>\n",
              "      <td>-0.000000e+00</td>\n",
              "      <td>0.0</td>\n",
              "      <td>0.0</td>\n",
              "    </tr>\n",
              "    <tr>\n",
              "      <th>alpha_10</th>\n",
              "      <td>7937.352508</td>\n",
              "      <td>-3.820036</td>\n",
              "      <td>0.000000</td>\n",
              "      <td>0.0</td>\n",
              "      <td>0.0</td>\n",
              "      <td>-0.000000</td>\n",
              "      <td>-0.000000</td>\n",
              "      <td>0.0</td>\n",
              "      <td>0.0</td>\n",
              "      <td>0.0</td>\n",
              "      <td>0.0</td>\n",
              "      <td>-0.000000</td>\n",
              "      <td>0.0</td>\n",
              "      <td>0.000000</td>\n",
              "      <td>-0.000000</td>\n",
              "      <td>-0.00000</td>\n",
              "      <td>-0.000000</td>\n",
              "      <td>0.00000</td>\n",
              "      <td>-0.000000</td>\n",
              "      <td>0.000000</td>\n",
              "      <td>-0.000000</td>\n",
              "      <td>0.000000</td>\n",
              "      <td>-0.000000</td>\n",
              "      <td>0.0</td>\n",
              "      <td>0.0</td>\n",
              "      <td>-0.000000</td>\n",
              "      <td>0.0</td>\n",
              "      <td>0.000000</td>\n",
              "      <td>0.000000</td>\n",
              "      <td>0.000000</td>\n",
              "      <td>0.0</td>\n",
              "      <td>-0.000000</td>\n",
              "      <td>-0.000000</td>\n",
              "      <td>0.000000</td>\n",
              "      <td>0.000000</td>\n",
              "      <td>0.000000</td>\n",
              "      <td>0.000000</td>\n",
              "      <td>0.00000</td>\n",
              "      <td>0.00000</td>\n",
              "      <td>0.000000</td>\n",
              "      <td>...</td>\n",
              "      <td>0.0</td>\n",
              "      <td>0.0</td>\n",
              "      <td>0.0</td>\n",
              "      <td>0.0</td>\n",
              "      <td>0.0</td>\n",
              "      <td>-0.000000e+00</td>\n",
              "      <td>0.0</td>\n",
              "      <td>0.0</td>\n",
              "      <td>0.0</td>\n",
              "      <td>-0.000000e+00</td>\n",
              "      <td>-0.000000e+00</td>\n",
              "      <td>0.0</td>\n",
              "      <td>0.0</td>\n",
              "      <td>-0.000000e+00</td>\n",
              "      <td>-0.000000e+00</td>\n",
              "      <td>-0.0</td>\n",
              "      <td>0.0</td>\n",
              "      <td>0.0</td>\n",
              "      <td>0.0</td>\n",
              "      <td>0.0</td>\n",
              "      <td>0.0</td>\n",
              "      <td>-0.000000e+00</td>\n",
              "      <td>0.0</td>\n",
              "      <td>0.0</td>\n",
              "      <td>0.0</td>\n",
              "      <td>-0.0</td>\n",
              "      <td>0.0</td>\n",
              "      <td>0.0</td>\n",
              "      <td>0.0</td>\n",
              "      <td>0.0</td>\n",
              "      <td>0.0</td>\n",
              "      <td>0.0</td>\n",
              "      <td>-0.000000e+00</td>\n",
              "      <td>0.0</td>\n",
              "      <td>0.0</td>\n",
              "      <td>0.0</td>\n",
              "      <td>-0.000000e+00</td>\n",
              "      <td>-0.000000e+00</td>\n",
              "      <td>0.0</td>\n",
              "      <td>0.0</td>\n",
              "    </tr>\n",
              "    <tr>\n",
              "      <th>alpha_1e+02</th>\n",
              "      <td>7937.352508</td>\n",
              "      <td>-3.820036</td>\n",
              "      <td>0.000000</td>\n",
              "      <td>0.0</td>\n",
              "      <td>0.0</td>\n",
              "      <td>-0.000000</td>\n",
              "      <td>-0.000000</td>\n",
              "      <td>0.0</td>\n",
              "      <td>0.0</td>\n",
              "      <td>0.0</td>\n",
              "      <td>0.0</td>\n",
              "      <td>-0.000000</td>\n",
              "      <td>0.0</td>\n",
              "      <td>0.000000</td>\n",
              "      <td>-0.000000</td>\n",
              "      <td>-0.00000</td>\n",
              "      <td>-0.000000</td>\n",
              "      <td>0.00000</td>\n",
              "      <td>-0.000000</td>\n",
              "      <td>0.000000</td>\n",
              "      <td>-0.000000</td>\n",
              "      <td>0.000000</td>\n",
              "      <td>-0.000000</td>\n",
              "      <td>0.0</td>\n",
              "      <td>0.0</td>\n",
              "      <td>-0.000000</td>\n",
              "      <td>0.0</td>\n",
              "      <td>0.000000</td>\n",
              "      <td>0.000000</td>\n",
              "      <td>0.000000</td>\n",
              "      <td>0.0</td>\n",
              "      <td>-0.000000</td>\n",
              "      <td>-0.000000</td>\n",
              "      <td>0.000000</td>\n",
              "      <td>0.000000</td>\n",
              "      <td>0.000000</td>\n",
              "      <td>0.000000</td>\n",
              "      <td>0.00000</td>\n",
              "      <td>0.00000</td>\n",
              "      <td>0.000000</td>\n",
              "      <td>...</td>\n",
              "      <td>0.0</td>\n",
              "      <td>0.0</td>\n",
              "      <td>0.0</td>\n",
              "      <td>0.0</td>\n",
              "      <td>0.0</td>\n",
              "      <td>-0.000000e+00</td>\n",
              "      <td>0.0</td>\n",
              "      <td>0.0</td>\n",
              "      <td>0.0</td>\n",
              "      <td>-0.000000e+00</td>\n",
              "      <td>-0.000000e+00</td>\n",
              "      <td>0.0</td>\n",
              "      <td>0.0</td>\n",
              "      <td>-0.000000e+00</td>\n",
              "      <td>-0.000000e+00</td>\n",
              "      <td>-0.0</td>\n",
              "      <td>0.0</td>\n",
              "      <td>0.0</td>\n",
              "      <td>0.0</td>\n",
              "      <td>0.0</td>\n",
              "      <td>0.0</td>\n",
              "      <td>-0.000000e+00</td>\n",
              "      <td>0.0</td>\n",
              "      <td>0.0</td>\n",
              "      <td>0.0</td>\n",
              "      <td>-0.0</td>\n",
              "      <td>0.0</td>\n",
              "      <td>0.0</td>\n",
              "      <td>0.0</td>\n",
              "      <td>0.0</td>\n",
              "      <td>0.0</td>\n",
              "      <td>0.0</td>\n",
              "      <td>-0.000000e+00</td>\n",
              "      <td>0.0</td>\n",
              "      <td>0.0</td>\n",
              "      <td>0.0</td>\n",
              "      <td>-0.000000e+00</td>\n",
              "      <td>-0.000000e+00</td>\n",
              "      <td>0.0</td>\n",
              "      <td>0.0</td>\n",
              "    </tr>\n",
              "  </tbody>\n",
              "</table>\n",
              "<p>7 rows × 150362 columns</p>\n",
              "</div>"
            ],
            "text/plain": [
              "                   0         1         2       ...        150359  150360  150361\n",
              "alpha_0      35644.433193 -0.555578  0.847368  ...  1.984396e-27     0.0     0.0\n",
              "alpha_0.001   2233.941557 -0.638057  0.842605  ... -0.000000e+00     0.0     0.0\n",
              "alpha_0.01    2249.231231 -0.801265  0.799386  ... -0.000000e+00     0.0     0.0\n",
              "alpha_0.1     4050.931660 -2.433345  0.367203  ... -0.000000e+00     0.0     0.0\n",
              "alpha_1       7937.352508 -3.820036  0.000000  ... -0.000000e+00     0.0     0.0\n",
              "alpha_10      7937.352508 -3.820036  0.000000  ... -0.000000e+00     0.0     0.0\n",
              "alpha_1e+02   7937.352508 -3.820036  0.000000  ... -0.000000e+00     0.0     0.0\n",
              "\n",
              "[7 rows x 150362 columns]"
            ]
          },
          "metadata": {},
          "execution_count": 47
        }
      ]
    },
    {
      "cell_type": "code",
      "metadata": {
        "id": "tJDUsI2738hT",
        "colab": {
          "base_uri": "https://localhost:8080/",
          "height": 609
        },
        "outputId": "0de7643c-becc-4f33-f144-6c952454f72f"
      },
      "source": [
        "#Plotting the alpha vs RMSE for Ridge and Lasso regressions\n",
        "plot_rmse(alpha_use, e2006_matrix_ridge, 'Ridge')\n",
        "plot_rmse(alpha_use, e2006_matrix_lasso, 'Lasso')"
      ],
      "execution_count": 48,
      "outputs": [
        {
          "output_type": "display_data",
          "data": {
            "image/png": "[encoded data removed]",
            "text/plain": [
              "<Figure size 432x288 with 1 Axes>"
            ]
          },
          "metadata": {
            "needs_background": "light"
          }
        },
        {
          "output_type": "display_data",
          "data": {
            "image/png": "[encoded data removed]",
            "text/plain": [
              "<Figure size 432x288 with 1 Axes>"
            ]
          },
          "metadata": {
            "needs_background": "light"
          }
        }
      ]
    },
    {
      "cell_type": "markdown",
      "metadata": {
        "id": "ADcZecz3C_e-"
      },
      "source": [
        "### **Question 3**"
      ]
    },
    {
      "cell_type": "code",
      "metadata": {
        "id": "GCJu57xKC8GL"
      },
      "source": [
        "#From sklearn, return the best alpha and the mean square error\n",
        "#Using the same alphas as before.\n",
        "e2006_ridge_alpha = ridge_kfold(alpha_use[1:],e2006_data[0], e2006_data[1])\n",
        "e2006_lasso_alpha = lasso_kfold(alpha_use[1:], e2006_data[0], e2006_data[1])"
      ],
      "execution_count": 49,
      "outputs": []
    },
    {
      "cell_type": "code",
      "metadata": {
        "id": "w-KqXYuBC8GM",
        "colab": {
          "base_uri": "https://localhost:8080/"
        },
        "outputId": "4a3212aa-3832-4aff-db79-3631fc177572"
      },
      "source": [
        "#Reporting the best alphas from the training dataset.\n",
        "print('Ridge best alpha for e2006 data: '+str(e2006_ridge_alpha))\n",
        "print('Lasso best alpha for e2006 data: '+str(e2006_lasso_alpha))"
      ],
      "execution_count": 50,
      "outputs": [
        {
          "output_type": "stream",
          "name": "stdout",
          "text": [
            "Ridge best alpha for e2006 data: 0.01\n",
            "Lasso best alpha for e2006 data: 0.001\n"
          ]
        }
      ]
    },
    {
      "cell_type": "code",
      "metadata": {
        "id": "lTUNcLGKC8GM",
        "colab": {
          "base_uri": "https://localhost:8080/",
          "height": 350
        },
        "outputId": "633b1cdc-19fb-4ae5-df69-6ebd3000cd79"
      },
      "source": [
        "#Training the data once again using only the best alpha for ridge\n",
        "e2006_bestalpha_matrix_ridge= coeff_matrices([e2006_ridge_alpha], ridge_model, e2006_data[0], e2006_data[1], e2006_data[2], e2006_data[3])\n",
        "print('RMSE for best alpha in ridge on e2006 data: '+str(e2006_bestalpha_matrix_ridge[0]))"
      ],
      "execution_count": 51,
      "outputs": [
        {
          "output_type": "display_data",
          "data": {
            "image/png": "[encoded data removed]",
            "text/plain": [
              "<Figure size 432x288 with 1 Axes>"
            ]
          },
          "metadata": {
            "needs_background": "light"
          }
        },
        {
          "output_type": "stream",
          "name": "stdout",
          "text": [
            "RMSE for best alpha in ridge on e2006 data: alpha_0.01    2273.105903\n",
            "Name: 0, dtype: float64\n"
          ]
        }
      ]
    },
    {
      "cell_type": "code",
      "metadata": {
        "id": "BfcjqDOQC8GN",
        "colab": {
          "base_uri": "https://localhost:8080/",
          "height": 350
        },
        "outputId": "8885d9e8-565f-4b17-ff64-f9ce1c655ae7"
      },
      "source": [
        "#Training the data once again using only the best alpha for lasso\n",
        "e2006_bestalpha_matrix_lasso= coeff_matrices([e2006_lasso_alpha], lasso_model, e2006_data[0], e2006_data[1], e2006_data[2], e2006_data[3])\n",
        "print('RMSE for best alpha in lasso on e2006 data: '+str(e2006_bestalpha_matrix_lasso[0]))"
      ],
      "execution_count": 52,
      "outputs": [
        {
          "output_type": "display_data",
          "data": {
            "image/png": "[encoded data removed]",
            "text/plain": [
              "<Figure size 432x288 with 1 Axes>"
            ]
          },
          "metadata": {
            "needs_background": "light"
          }
        },
        {
          "output_type": "stream",
          "name": "stdout",
          "text": [
            "RMSE for best alpha in lasso on e2006 data: alpha_0.001    2233.941557\n",
            "Name: 0, dtype: float64\n"
          ]
        }
      ]
    }
  ]
}